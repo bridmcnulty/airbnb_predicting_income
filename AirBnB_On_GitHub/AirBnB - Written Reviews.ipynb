{
 "cells": [
  {
   "cell_type": "code",
   "execution_count": 2,
   "metadata": {},
   "outputs": [
    {
     "data": {
      "text/plain": [
       "(1249466, 6)"
      ]
     },
     "execution_count": 2,
     "metadata": {},
     "output_type": "execute_result"
    }
   ],
   "source": [
    "import pandas as pd\n",
    "import numpy as np\n",
    "import requests\n",
    "import matplotlib.pyplot as plt\n",
    "import seaborn as sns\n",
    "from sklearn.model_selection import train_test_split, cross_val_score, GridSearchCV\n",
    "from sklearn import datasets, metrics\n",
    "from sklearn.preprocessing import StandardScaler\n",
    "from sklearn.linear_model import LogisticRegression, LogisticRegressionCV, LinearRegression\n",
    "# is reviews_per_month total listings per host? So may need divide by their number of listings\n",
    "# \n",
    "\n",
    "reviews_m = pd.read_csv(\"/Users/bridmcnulty/Desktop/reviews.csv\", low_memory=False)\n",
    "reviews_f = pd.read_csv(\"/Users/bridmcnulty/Desktop/reviews1.csv\", low_memory=False)\n",
    "                      \n",
    "reviews_m.shape"
   ]
  },
  {
   "cell_type": "code",
   "execution_count": 3,
   "metadata": {},
   "outputs": [
    {
     "data": {
      "text/html": [
       "<div>\n",
       "<style scoped>\n",
       "    .dataframe tbody tr th:only-of-type {\n",
       "        vertical-align: middle;\n",
       "    }\n",
       "\n",
       "    .dataframe tbody tr th {\n",
       "        vertical-align: top;\n",
       "    }\n",
       "\n",
       "    .dataframe thead th {\n",
       "        text-align: right;\n",
       "    }\n",
       "</style>\n",
       "<table border=\"1\" class=\"dataframe\">\n",
       "  <thead>\n",
       "    <tr style=\"text-align: right;\">\n",
       "      <th></th>\n",
       "      <th>listing_id</th>\n",
       "      <th>id</th>\n",
       "      <th>date</th>\n",
       "      <th>reviewer_id</th>\n",
       "      <th>reviewer_name</th>\n",
       "      <th>comments</th>\n",
       "    </tr>\n",
       "  </thead>\n",
       "  <tbody>\n",
       "    <tr>\n",
       "      <th>0</th>\n",
       "      <td>13913</td>\n",
       "      <td>80770</td>\n",
       "      <td>2010-08-18</td>\n",
       "      <td>177109</td>\n",
       "      <td>Michael</td>\n",
       "      <td>My girlfriend and I hadn't known Alina before ...</td>\n",
       "    </tr>\n",
       "    <tr>\n",
       "      <th>1</th>\n",
       "      <td>13913</td>\n",
       "      <td>367568</td>\n",
       "      <td>2011-07-11</td>\n",
       "      <td>19835707</td>\n",
       "      <td>Mathias</td>\n",
       "      <td>Alina was a really good host. The flat is clea...</td>\n",
       "    </tr>\n",
       "    <tr>\n",
       "      <th>2</th>\n",
       "      <td>13913</td>\n",
       "      <td>529579</td>\n",
       "      <td>2011-09-13</td>\n",
       "      <td>1110304</td>\n",
       "      <td>Kristin</td>\n",
       "      <td>Alina is an amazing host. She made me feel rig...</td>\n",
       "    </tr>\n",
       "    <tr>\n",
       "      <th>3</th>\n",
       "      <td>13913</td>\n",
       "      <td>595481</td>\n",
       "      <td>2011-10-03</td>\n",
       "      <td>1216358</td>\n",
       "      <td>Camilla</td>\n",
       "      <td>Alina's place is so nice, the room is big and ...</td>\n",
       "    </tr>\n",
       "    <tr>\n",
       "      <th>4</th>\n",
       "      <td>13913</td>\n",
       "      <td>612947</td>\n",
       "      <td>2011-10-09</td>\n",
       "      <td>490840</td>\n",
       "      <td>Jorik</td>\n",
       "      <td>Nice location in Islington area, good for shor...</td>\n",
       "    </tr>\n",
       "  </tbody>\n",
       "</table>\n",
       "</div>"
      ],
      "text/plain": [
       "   listing_id      id        date  reviewer_id reviewer_name  \\\n",
       "0       13913   80770  2010-08-18       177109       Michael   \n",
       "1       13913  367568  2011-07-11     19835707       Mathias   \n",
       "2       13913  529579  2011-09-13      1110304       Kristin   \n",
       "3       13913  595481  2011-10-03      1216358       Camilla   \n",
       "4       13913  612947  2011-10-09       490840         Jorik   \n",
       "\n",
       "                                            comments  \n",
       "0  My girlfriend and I hadn't known Alina before ...  \n",
       "1  Alina was a really good host. The flat is clea...  \n",
       "2  Alina is an amazing host. She made me feel rig...  \n",
       "3  Alina's place is so nice, the room is big and ...  \n",
       "4  Nice location in Islington area, good for shor...  "
      ]
     },
     "execution_count": 3,
     "metadata": {},
     "output_type": "execute_result"
    }
   ],
   "source": [
    "reviews_m.head()"
   ]
  },
  {
   "cell_type": "code",
   "execution_count": 4,
   "metadata": {},
   "outputs": [],
   "source": [
    "frames = [reviews_m, reviews_f]\n",
    "\n",
    "df = pd.concat(frames)"
   ]
  },
  {
   "cell_type": "code",
   "execution_count": 5,
   "metadata": {},
   "outputs": [
    {
     "data": {
      "text/plain": [
       "(2480777, 6)"
      ]
     },
     "execution_count": 5,
     "metadata": {},
     "output_type": "execute_result"
    }
   ],
   "source": [
    "df.shape"
   ]
  },
  {
   "cell_type": "code",
   "execution_count": 6,
   "metadata": {},
   "outputs": [],
   "source": [
    "df.drop(columns=['id','reviewer_id','reviewer_name','date'],inplace=True)"
   ]
  },
  {
   "cell_type": "code",
   "execution_count": 7,
   "metadata": {},
   "outputs": [
    {
     "data": {
      "text/html": [
       "<div>\n",
       "<style scoped>\n",
       "    .dataframe tbody tr th:only-of-type {\n",
       "        vertical-align: middle;\n",
       "    }\n",
       "\n",
       "    .dataframe tbody tr th {\n",
       "        vertical-align: top;\n",
       "    }\n",
       "\n",
       "    .dataframe thead th {\n",
       "        text-align: right;\n",
       "    }\n",
       "</style>\n",
       "<table border=\"1\" class=\"dataframe\">\n",
       "  <thead>\n",
       "    <tr style=\"text-align: right;\">\n",
       "      <th></th>\n",
       "      <th>listing_id</th>\n",
       "      <th>comments</th>\n",
       "    </tr>\n",
       "  </thead>\n",
       "  <tbody>\n",
       "    <tr>\n",
       "      <th>0</th>\n",
       "      <td>13913</td>\n",
       "      <td>My girlfriend and I hadn't known Alina before ...</td>\n",
       "    </tr>\n",
       "    <tr>\n",
       "      <th>1</th>\n",
       "      <td>13913</td>\n",
       "      <td>Alina was a really good host. The flat is clea...</td>\n",
       "    </tr>\n",
       "    <tr>\n",
       "      <th>2</th>\n",
       "      <td>13913</td>\n",
       "      <td>Alina is an amazing host. She made me feel rig...</td>\n",
       "    </tr>\n",
       "    <tr>\n",
       "      <th>3</th>\n",
       "      <td>13913</td>\n",
       "      <td>Alina's place is so nice, the room is big and ...</td>\n",
       "    </tr>\n",
       "    <tr>\n",
       "      <th>4</th>\n",
       "      <td>13913</td>\n",
       "      <td>Nice location in Islington area, good for shor...</td>\n",
       "    </tr>\n",
       "  </tbody>\n",
       "</table>\n",
       "</div>"
      ],
      "text/plain": [
       "   listing_id                                           comments\n",
       "0       13913  My girlfriend and I hadn't known Alina before ...\n",
       "1       13913  Alina was a really good host. The flat is clea...\n",
       "2       13913  Alina is an amazing host. She made me feel rig...\n",
       "3       13913  Alina's place is so nice, the room is big and ...\n",
       "4       13913  Nice location in Islington area, good for shor..."
      ]
     },
     "execution_count": 7,
     "metadata": {},
     "output_type": "execute_result"
    }
   ],
   "source": [
    "df.head()"
   ]
  },
  {
   "cell_type": "code",
   "execution_count": 8,
   "metadata": {},
   "outputs": [
    {
     "data": {
      "text/plain": [
       "dtype('O')"
      ]
     },
     "execution_count": 8,
     "metadata": {},
     "output_type": "execute_result"
    }
   ],
   "source": [
    "df.comments.dtypes"
   ]
  },
  {
   "cell_type": "code",
   "execution_count": 9,
   "metadata": {},
   "outputs": [],
   "source": [
    "# 850 null comment rows dropped:\n",
    "\n",
    "df.dropna(subset=['comments'],inplace=True)"
   ]
  },
  {
   "cell_type": "code",
   "execution_count": 10,
   "metadata": {},
   "outputs": [
    {
     "data": {
      "text/plain": [
       "1    Alina was a really good host. The flat is clea...\n",
       "1    My bnb request was very last minute and i was ...\n",
       "Name: comments, dtype: object"
      ]
     },
     "execution_count": 10,
     "metadata": {},
     "output_type": "execute_result"
    }
   ],
   "source": [
    "# Each comment is a pair of strings, they need to be combined:\n",
    "test = df['comments'][1]\n",
    "test"
   ]
  },
  {
   "cell_type": "code",
   "execution_count": 15,
   "metadata": {},
   "outputs": [],
   "source": [
    "# Create a list for that combines each listing's pair of strings into one:\n",
    "\n",
    "l = []\n",
    "for x in range(len(df.comments)):\n",
    "    try:\n",
    "        test = df.comments[x]\n",
    "        l.append(\"\".join(test))\n",
    "    except:\n",
    "        l.append(test)"
   ]
  },
  {
   "cell_type": "code",
   "execution_count": 16,
   "metadata": {},
   "outputs": [],
   "source": [
    "# Set l as a new comments_combined column:\n",
    "df['comments_combined'] = l"
   ]
  },
  {
   "cell_type": "code",
   "execution_count": 17,
   "metadata": {},
   "outputs": [
    {
     "data": {
      "text/plain": [
       "0"
      ]
     },
     "execution_count": 17,
     "metadata": {},
     "output_type": "execute_result"
    }
   ],
   "source": [
    "df.comments_combined.isnull().sum()"
   ]
  },
  {
   "cell_type": "code",
   "execution_count": 18,
   "metadata": {},
   "outputs": [],
   "source": [
    "# Save to csv because acquiring 'l' took many hours:\n",
    "df.to_csv(\"reviews_comments_combined.csv\")"
   ]
  },
  {
   "cell_type": "code",
   "execution_count": 11,
   "metadata": {},
   "outputs": [],
   "source": [
    "# Read back in:\n",
    "df = pd.read_csv(\"/Users/bridmcnulty/Desktop/reviews_comments_combined.csv\")"
   ]
  },
  {
   "cell_type": "code",
   "execution_count": 12,
   "metadata": {},
   "outputs": [
    {
     "data": {
      "text/html": [
       "<div>\n",
       "<style scoped>\n",
       "    .dataframe tbody tr th:only-of-type {\n",
       "        vertical-align: middle;\n",
       "    }\n",
       "\n",
       "    .dataframe tbody tr th {\n",
       "        vertical-align: top;\n",
       "    }\n",
       "\n",
       "    .dataframe thead th {\n",
       "        text-align: right;\n",
       "    }\n",
       "</style>\n",
       "<table border=\"1\" class=\"dataframe\">\n",
       "  <thead>\n",
       "    <tr style=\"text-align: right;\">\n",
       "      <th></th>\n",
       "      <th>Unnamed: 0</th>\n",
       "      <th>listing_id</th>\n",
       "      <th>comments</th>\n",
       "      <th>comments_combined</th>\n",
       "    </tr>\n",
       "  </thead>\n",
       "  <tbody>\n",
       "    <tr>\n",
       "      <th>0</th>\n",
       "      <td>0</td>\n",
       "      <td>13913</td>\n",
       "      <td>My girlfriend and I hadn't known Alina before ...</td>\n",
       "      <td>My girlfriend and I hadn't known Alina before ...</td>\n",
       "    </tr>\n",
       "    <tr>\n",
       "      <th>1</th>\n",
       "      <td>1</td>\n",
       "      <td>13913</td>\n",
       "      <td>Alina was a really good host. The flat is clea...</td>\n",
       "      <td>Alina was a really good host. The flat is clea...</td>\n",
       "    </tr>\n",
       "    <tr>\n",
       "      <th>2</th>\n",
       "      <td>2</td>\n",
       "      <td>13913</td>\n",
       "      <td>Alina is an amazing host. She made me feel rig...</td>\n",
       "      <td>Alina is an amazing host. She made me feel rig...</td>\n",
       "    </tr>\n",
       "    <tr>\n",
       "      <th>3</th>\n",
       "      <td>3</td>\n",
       "      <td>13913</td>\n",
       "      <td>Alina's place is so nice, the room is big and ...</td>\n",
       "      <td>Alina's place is so nice, the room is big and ...</td>\n",
       "    </tr>\n",
       "    <tr>\n",
       "      <th>4</th>\n",
       "      <td>4</td>\n",
       "      <td>13913</td>\n",
       "      <td>Nice location in Islington area, good for shor...</td>\n",
       "      <td>Nice location in Islington area, good for shor...</td>\n",
       "    </tr>\n",
       "  </tbody>\n",
       "</table>\n",
       "</div>"
      ],
      "text/plain": [
       "   Unnamed: 0  listing_id                                           comments  \\\n",
       "0           0       13913  My girlfriend and I hadn't known Alina before ...   \n",
       "1           1       13913  Alina was a really good host. The flat is clea...   \n",
       "2           2       13913  Alina is an amazing host. She made me feel rig...   \n",
       "3           3       13913  Alina's place is so nice, the room is big and ...   \n",
       "4           4       13913  Nice location in Islington area, good for shor...   \n",
       "\n",
       "                                   comments_combined  \n",
       "0  My girlfriend and I hadn't known Alina before ...  \n",
       "1  Alina was a really good host. The flat is clea...  \n",
       "2  Alina is an amazing host. She made me feel rig...  \n",
       "3  Alina's place is so nice, the room is big and ...  \n",
       "4  Nice location in Islington area, good for shor...  "
      ]
     },
     "execution_count": 12,
     "metadata": {},
     "output_type": "execute_result"
    }
   ],
   "source": [
    "df.head()"
   ]
  },
  {
   "cell_type": "markdown",
   "metadata": {},
   "source": [
    "# Sentiment Analysis with Textacy"
   ]
  },
  {
   "cell_type": "code",
   "execution_count": 6,
   "metadata": {},
   "outputs": [],
   "source": [
    "from tqdm import tqdm_notebook\n",
    "import textacy\n",
    "from vaderSentiment.vaderSentiment import SentimentIntensityAnalyzer"
   ]
  },
  {
   "cell_type": "code",
   "execution_count": 12,
   "metadata": {},
   "outputs": [],
   "source": [
    "sents = pd.read_csv('./word_sentiments.csv')"
   ]
  },
  {
   "cell_type": "code",
   "execution_count": 13,
   "metadata": {},
   "outputs": [
    {
     "data": {
      "text/html": [
       "<div>\n",
       "<style scoped>\n",
       "    .dataframe tbody tr th:only-of-type {\n",
       "        vertical-align: middle;\n",
       "    }\n",
       "\n",
       "    .dataframe tbody tr th {\n",
       "        vertical-align: top;\n",
       "    }\n",
       "\n",
       "    .dataframe thead th {\n",
       "        text-align: right;\n",
       "    }\n",
       "</style>\n",
       "<table border=\"1\" class=\"dataframe\">\n",
       "  <thead>\n",
       "    <tr style=\"text-align: right;\">\n",
       "      <th></th>\n",
       "      <th>pos</th>\n",
       "      <th>word</th>\n",
       "      <th>pos_score</th>\n",
       "      <th>neg_score</th>\n",
       "      <th>objectivity</th>\n",
       "      <th>pos_vs_neg</th>\n",
       "    </tr>\n",
       "  </thead>\n",
       "  <tbody>\n",
       "    <tr>\n",
       "      <th>0</th>\n",
       "      <td>ADJ</td>\n",
       "      <td>.22-caliber</td>\n",
       "      <td>0.0</td>\n",
       "      <td>0.0</td>\n",
       "      <td>1.0</td>\n",
       "      <td>0.0</td>\n",
       "    </tr>\n",
       "    <tr>\n",
       "      <th>1</th>\n",
       "      <td>ADJ</td>\n",
       "      <td>.22-calibre</td>\n",
       "      <td>0.0</td>\n",
       "      <td>0.0</td>\n",
       "      <td>1.0</td>\n",
       "      <td>0.0</td>\n",
       "    </tr>\n",
       "    <tr>\n",
       "      <th>2</th>\n",
       "      <td>ADJ</td>\n",
       "      <td>.22_caliber</td>\n",
       "      <td>0.0</td>\n",
       "      <td>0.0</td>\n",
       "      <td>1.0</td>\n",
       "      <td>0.0</td>\n",
       "    </tr>\n",
       "    <tr>\n",
       "      <th>3</th>\n",
       "      <td>ADJ</td>\n",
       "      <td>.22_calibre</td>\n",
       "      <td>0.0</td>\n",
       "      <td>0.0</td>\n",
       "      <td>1.0</td>\n",
       "      <td>0.0</td>\n",
       "    </tr>\n",
       "    <tr>\n",
       "      <th>4</th>\n",
       "      <td>ADJ</td>\n",
       "      <td>.38-caliber</td>\n",
       "      <td>0.0</td>\n",
       "      <td>0.0</td>\n",
       "      <td>1.0</td>\n",
       "      <td>0.0</td>\n",
       "    </tr>\n",
       "  </tbody>\n",
       "</table>\n",
       "</div>"
      ],
      "text/plain": [
       "   pos         word  pos_score  neg_score  objectivity  pos_vs_neg\n",
       "0  ADJ  .22-caliber        0.0        0.0          1.0         0.0\n",
       "1  ADJ  .22-calibre        0.0        0.0          1.0         0.0\n",
       "2  ADJ  .22_caliber        0.0        0.0          1.0         0.0\n",
       "3  ADJ  .22_calibre        0.0        0.0          1.0         0.0\n",
       "4  ADJ  .38-caliber        0.0        0.0          1.0         0.0"
      ]
     },
     "execution_count": 13,
     "metadata": {},
     "output_type": "execute_result"
    }
   ],
   "source": [
    "sents.head()"
   ]
  },
  {
   "cell_type": "code",
   "execution_count": 14,
   "metadata": {},
   "outputs": [
    {
     "data": {
      "application/vnd.jupyter.widget-view+json": {
       "model_id": "66041a9d4c0f436c949c47071ea91802",
       "version_major": 2,
       "version_minor": 0
      },
      "text/plain": [
       "HBox(children=(IntProgress(value=1, bar_style='info', max=1), HTML(value='')))"
      ]
     },
     "metadata": {},
     "output_type": "display_data"
    },
    {
     "name": "stdout",
     "output_type": "stream",
     "text": [
      "\n"
     ]
    }
   ],
   "source": [
    "# Create the sen_dict from df:\n",
    "\n",
    "from collections import defaultdict\n",
    "sen_dict = defaultdict(dict) # set up a default dictionary with an empty dictionary as default value\n",
    "\n",
    "for row in tqdm_notebook(sents.itertuples()):\n",
    "    sen_dict[row.pos] [row.word] = {'objectivity': row.objectivity, 'pos_vs_neg': row.neg_score}"
   ]
  },
  {
   "cell_type": "code",
   "execution_count": 15,
   "metadata": {},
   "outputs": [],
   "source": [
    "# Engineer an initial feature of title length:\n",
    "\n",
    "df['comment_length'] = [len(t.split()) for t in df['comments_combined']]"
   ]
  },
  {
   "cell_type": "code",
   "execution_count": 16,
   "metadata": {},
   "outputs": [
    {
     "data": {
      "text/html": [
       "<div>\n",
       "<style scoped>\n",
       "    .dataframe tbody tr th:only-of-type {\n",
       "        vertical-align: middle;\n",
       "    }\n",
       "\n",
       "    .dataframe tbody tr th {\n",
       "        vertical-align: top;\n",
       "    }\n",
       "\n",
       "    .dataframe thead th {\n",
       "        text-align: right;\n",
       "    }\n",
       "</style>\n",
       "<table border=\"1\" class=\"dataframe\">\n",
       "  <thead>\n",
       "    <tr style=\"text-align: right;\">\n",
       "      <th></th>\n",
       "      <th>Unnamed: 0</th>\n",
       "      <th>listing_id</th>\n",
       "      <th>comments</th>\n",
       "      <th>comments_combined</th>\n",
       "      <th>comment_length</th>\n",
       "    </tr>\n",
       "  </thead>\n",
       "  <tbody>\n",
       "    <tr>\n",
       "      <th>0</th>\n",
       "      <td>0</td>\n",
       "      <td>13913</td>\n",
       "      <td>My girlfriend and I hadn't known Alina before ...</td>\n",
       "      <td>My girlfriend and I hadn't known Alina before ...</td>\n",
       "      <td>318</td>\n",
       "    </tr>\n",
       "    <tr>\n",
       "      <th>1</th>\n",
       "      <td>1</td>\n",
       "      <td>13913</td>\n",
       "      <td>Alina was a really good host. The flat is clea...</td>\n",
       "      <td>Alina was a really good host. The flat is clea...</td>\n",
       "      <td>103</td>\n",
       "    </tr>\n",
       "    <tr>\n",
       "      <th>2</th>\n",
       "      <td>2</td>\n",
       "      <td>13913</td>\n",
       "      <td>Alina is an amazing host. She made me feel rig...</td>\n",
       "      <td>Alina is an amazing host. She made me feel rig...</td>\n",
       "      <td>239</td>\n",
       "    </tr>\n",
       "    <tr>\n",
       "      <th>3</th>\n",
       "      <td>3</td>\n",
       "      <td>13913</td>\n",
       "      <td>Alina's place is so nice, the room is big and ...</td>\n",
       "      <td>Alina's place is so nice, the room is big and ...</td>\n",
       "      <td>144</td>\n",
       "    </tr>\n",
       "    <tr>\n",
       "      <th>4</th>\n",
       "      <td>4</td>\n",
       "      <td>13913</td>\n",
       "      <td>Nice location in Islington area, good for shor...</td>\n",
       "      <td>Nice location in Islington area, good for shor...</td>\n",
       "      <td>147</td>\n",
       "    </tr>\n",
       "  </tbody>\n",
       "</table>\n",
       "</div>"
      ],
      "text/plain": [
       "   Unnamed: 0  listing_id                                           comments  \\\n",
       "0           0       13913  My girlfriend and I hadn't known Alina before ...   \n",
       "1           1       13913  Alina was a really good host. The flat is clea...   \n",
       "2           2       13913  Alina is an amazing host. She made me feel rig...   \n",
       "3           3       13913  Alina's place is so nice, the room is big and ...   \n",
       "4           4       13913  Nice location in Islington area, good for shor...   \n",
       "\n",
       "                                   comments_combined  comment_length  \n",
       "0  My girlfriend and I hadn't known Alina before ...             318  \n",
       "1  Alina was a really good host. The flat is clea...             103  \n",
       "2  Alina is an amazing host. She made me feel rig...             239  \n",
       "3  Alina's place is so nice, the room is big and ...             144  \n",
       "4  Nice location in Islington area, good for shor...             147  "
      ]
     },
     "execution_count": 16,
     "metadata": {},
     "output_type": "execute_result"
    }
   ],
   "source": [
    "df.head()"
   ]
  },
  {
   "cell_type": "code",
   "execution_count": 17,
   "metadata": {},
   "outputs": [],
   "source": [
    "# Complete a sentiment analysis manually using the sen_dict:\n",
    "\n",
    "en_nlp = textacy.load_spacy('en_core_web_sm')\n",
    "\n",
    "def process_text(documents, pos=False):\n",
    "    nlp = textacy.load_spacy('en_core_web_sm')\n",
    "    \n",
    "    texts = []\n",
    "    tokenised_texts = []\n",
    "\n",
    "    if pos: # pos can either be False or a list of parts of speech\n",
    "        for document in tqdm_notebook(nlp.pipe(documents, batch_size=200)):\n",
    "            assert document.is_parsed\n",
    "            tokens = [token\n",
    "                      for token in document \n",
    "                      if token.is_stop == False\n",
    "                      and token.pos_ in pos\n",
    "                      and token.pos_ != 'PUNCT']\n",
    "            doc_ = ''\n",
    "            for token in tokens:\n",
    "                doc_ += str(token) + ' '\n",
    "            \n",
    "            doc_ = doc_.strip()\n",
    "            texts.append(doc_)\n",
    "            tokenised_texts.append(tokens)\n",
    "    \n",
    "    \n",
    "    else:    \n",
    "        for document in tqdm_notebook(nlp.pipe(documents, batch_size=200)):\n",
    "            assert document.is_parsed\n",
    "            tokens = [token\n",
    "                      for token in document \n",
    "                      if token.is_stop == False\n",
    "                      and token.pos_ != 'PUNCT']\n",
    "            doc_ = ''\n",
    "            for token in tokens:\n",
    "                doc_ += str(token) + ' '\n",
    "            \n",
    "            doc_ = doc_.strip()\n",
    "            texts.append(doc_)\n",
    "            tokenised_texts.append(tokens)\n",
    "            \n",
    "    return texts, tokenised_texts"
   ]
  },
  {
   "cell_type": "code",
   "execution_count": 18,
   "metadata": {},
   "outputs": [],
   "source": [
    "pos = ['NOUN', 'ADJ', 'VERB', 'ADV']"
   ]
  },
  {
   "cell_type": "code",
   "execution_count": null,
   "metadata": {},
   "outputs": [
    {
     "data": {
      "application/vnd.jupyter.widget-view+json": {
       "model_id": "19d4bd9707494ba28f9d42028a7b16e3",
       "version_major": 2,
       "version_minor": 0
      },
      "text/plain": [
       "HBox(children=(IntProgress(value=1, bar_style='info', max=1), HTML(value='')))"
      ]
     },
     "metadata": {},
     "output_type": "display_data"
    }
   ],
   "source": [
    "processed_titles, tokenised_titles = process_text(df['comments_combined'], pos=pos)"
   ]
  },
  {
   "cell_type": "code",
   "execution_count": null,
   "metadata": {},
   "outputs": [],
   "source": [
    "df['processed_title'] = processed_titles\n",
    "df['tokenised_title'] = tokenised_titles\n",
    "df.head()"
   ]
  },
  {
   "cell_type": "code",
   "execution_count": null,
   "metadata": {},
   "outputs": [],
   "source": [
    "def scorer(parsed):\n",
    "    \n",
    "    obj_scores, pvn_scores = [], []\n",
    "    \n",
    "    for token in parsed:\n",
    "        try:\n",
    "            obj_scores.append(sen_dict[token.pos_][token.lemma_]['objectivity'])\n",
    "            pvn_scores.append(sen_dict[token.pos_][token.lemma_]['pos_vs_neg'])\n",
    "        except:\n",
    "            pass\n",
    "    \n",
    "    if not obj_scores:\n",
    "        obj_scores = [1.]\n",
    "    if not pvn_scores:\n",
    "        pvn_scores = [0.]\n",
    "        \n",
    "    return [np.mean(obj_scores), np.mean(pvn_scores)]"
   ]
  },
  {
   "cell_type": "code",
   "execution_count": null,
   "metadata": {},
   "outputs": [],
   "source": [
    "scores = df['tokenised_title'].map(scorer)\n",
    "df['objectivity_avg'] = scores.map(lambda x: x[0])\n",
    "df['polarity_avg'] = scores.map(lambda x: x[1])"
   ]
  },
  {
   "cell_type": "code",
   "execution_count": null,
   "metadata": {},
   "outputs": [],
   "source": [
    "df.head()"
   ]
  },
  {
   "cell_type": "code",
   "execution_count": null,
   "metadata": {},
   "outputs": [],
   "source": [
    "df.to_csv(\"reviews_comments_processed.csv\")"
   ]
  },
  {
   "cell_type": "markdown",
   "metadata": {},
   "source": [
    "# Vader"
   ]
  },
  {
   "cell_type": "code",
   "execution_count": 2,
   "metadata": {},
   "outputs": [],
   "source": [
    "from vaderSentiment.vaderSentiment import SentimentIntensityAnalyzer"
   ]
  },
  {
   "cell_type": "code",
   "execution_count": 7,
   "metadata": {},
   "outputs": [
    {
     "name": "stdout",
     "output_type": "stream",
     "text": [
      "My girlfriend and I hadn't known Alina before we took the leap of faith to rent her flat. Alina just couldn't be nicer! Her flat is comfortable, homey, very sunny, and quiet at night. Her diverse neighborhood rocks! It's full of excellent eateries of varying ethnicities, good supermarkets, etc., etc. Her place is about a 10-minute walk to the Finsbury Park tube stop, and there are also several buses that ply Stroud Green Road. The Piccadilly and Victoria tube lines that serve Finsbury Park are very dependable and come frequently. My only caveat is if you are unwilling to take 20- to 40-minute commutes to downtown London attractions and money is no object, you will prefer to stay downtown. But for anyone else, you will love your experience of living in a real, untouristy neighborhood and dealing with a generous, warm-hearted woman I'm happy to call a new friend.I  stayed  in London for a month to study, explore the city, and meet people along the way.  \r\n",
      "\r\n",
      "I think the area is a great place to set your base. The neighborhood is lively and friendly, with an eclectic mix of ethic restaurants, colorful grocery stores and a happening pub that stays open late. There’s a big, green park nearby which is great for running or having a coffee. Central London is twenty minutes away by Tube.\r\n",
      "\r\n",
      "The apartment is charming, ceiling to floor. It actually does look even better than in the photos! The guest-room is bright and well heated, with a beautiful work desk and a spacious closet.  The kitchen is spacious and smells of fresh espresso in the morning. \r\n",
      "\r\n",
      "Guy is a friendly, reliable, easy- going host who knows (and loves!) London. Make sure to ask about the must-go London pubs and places to eat! \r\n",
      "\r\n",
      "All in all, I’d wholeheartedly recommend the apartment and the neighborhood, not to mention the curry house down the street!  Enjoy !!! \r\n",
      "\n",
      "{'neg': 0.013, 'neu': 0.743, 'pos': 0.243, 'compound': 0.9982}\n",
      "Alina was a really good host. The flat is clean and tidy - and really close to Finsbury Park station which is quite close to Central London. I recommend Alina to everyone. My bnb request was very last minute and i was surprised with a prompt and kind reply from Guy. He scheduled around his day to accommodate the time that i was arriving , and was greeted with an ace cup of coffee. \r\n",
      "\r\n",
      "Had no complaints at all during my stay and was also give n a spare key to come in and out as i wish !  Thank you once again \n",
      "{'neg': 0.045, 'neu': 0.758, 'pos': 0.197, 'compound': 0.937}\n"
     ]
    }
   ],
   "source": [
    "analyzer = SentimentIntensityAnalyzer()\n",
    "for sentence in df.comments_combined.values[0:2]:\n",
    "    vs = analyzer.polarity_scores(sentence)\n",
    "    print(sentence)\n",
    "    print(vs)"
   ]
  },
  {
   "cell_type": "code",
   "execution_count": 8,
   "metadata": {},
   "outputs": [],
   "source": [
    "vader_scores = df['comments_combined'].map(analyzer.polarity_scores)"
   ]
  },
  {
   "cell_type": "code",
   "execution_count": 9,
   "metadata": {},
   "outputs": [
    {
     "data": {
      "text/plain": [
       "0    {'neg': 0.013, 'neu': 0.743, 'pos': 0.243, 'co...\n",
       "1    {'neg': 0.045, 'neu': 0.758, 'pos': 0.197, 'co...\n",
       "2    {'neg': 0.0, 'neu': 0.736, 'pos': 0.264, 'comp...\n",
       "3    {'neg': 0.0, 'neu': 0.71, 'pos': 0.29, 'compou...\n",
       "4    {'neg': 0.0, 'neu': 0.754, 'pos': 0.246, 'comp...\n",
       "Name: comments_combined, dtype: object"
      ]
     },
     "execution_count": 9,
     "metadata": {},
     "output_type": "execute_result"
    }
   ],
   "source": [
    "vader_scores.head()"
   ]
  },
  {
   "cell_type": "code",
   "execution_count": 11,
   "metadata": {},
   "outputs": [
    {
     "data": {
      "text/plain": [
       "<2479927x4 sparse matrix of type '<class 'numpy.float64'>'\n",
       "\twith 5451988 stored elements in Compressed Sparse Row format>"
      ]
     },
     "execution_count": 11,
     "metadata": {},
     "output_type": "execute_result"
    }
   ],
   "source": [
    "from sklearn.feature_extraction import DictVectorizer\n",
    "dvec = DictVectorizer()\n",
    "\n",
    "vader_scores = dvec.fit_transform(vader_scores)\n",
    "vader_scores"
   ]
  },
  {
   "cell_type": "code",
   "execution_count": 12,
   "metadata": {},
   "outputs": [
    {
     "data": {
      "text/plain": [
       "['compound', 'neg', 'neu', 'pos']"
      ]
     },
     "execution_count": 12,
     "metadata": {},
     "output_type": "execute_result"
    }
   ],
   "source": [
    "dvec.feature_names_"
   ]
  },
  {
   "cell_type": "code",
   "execution_count": 13,
   "metadata": {},
   "outputs": [],
   "source": [
    "for i, col in enumerate(dvec.feature_names_):\n",
    "    df['vader_{}'.format(col)] = vader_scores[:, i].toarray().ravel()"
   ]
  },
  {
   "cell_type": "code",
   "execution_count": 14,
   "metadata": {},
   "outputs": [
    {
     "data": {
      "text/html": [
       "<div>\n",
       "<style scoped>\n",
       "    .dataframe tbody tr th:only-of-type {\n",
       "        vertical-align: middle;\n",
       "    }\n",
       "\n",
       "    .dataframe tbody tr th {\n",
       "        vertical-align: top;\n",
       "    }\n",
       "\n",
       "    .dataframe thead th {\n",
       "        text-align: right;\n",
       "    }\n",
       "</style>\n",
       "<table border=\"1\" class=\"dataframe\">\n",
       "  <thead>\n",
       "    <tr style=\"text-align: right;\">\n",
       "      <th></th>\n",
       "      <th>Unnamed: 0</th>\n",
       "      <th>listing_id</th>\n",
       "      <th>comments</th>\n",
       "      <th>comments_combined</th>\n",
       "      <th>vader_compound</th>\n",
       "      <th>vader_neg</th>\n",
       "      <th>vader_neu</th>\n",
       "      <th>vader_pos</th>\n",
       "    </tr>\n",
       "  </thead>\n",
       "  <tbody>\n",
       "    <tr>\n",
       "      <th>0</th>\n",
       "      <td>0</td>\n",
       "      <td>13913</td>\n",
       "      <td>My girlfriend and I hadn't known Alina before ...</td>\n",
       "      <td>My girlfriend and I hadn't known Alina before ...</td>\n",
       "      <td>0.9982</td>\n",
       "      <td>0.013</td>\n",
       "      <td>0.743</td>\n",
       "      <td>0.243</td>\n",
       "    </tr>\n",
       "    <tr>\n",
       "      <th>1</th>\n",
       "      <td>1</td>\n",
       "      <td>13913</td>\n",
       "      <td>Alina was a really good host. The flat is clea...</td>\n",
       "      <td>Alina was a really good host. The flat is clea...</td>\n",
       "      <td>0.9370</td>\n",
       "      <td>0.045</td>\n",
       "      <td>0.758</td>\n",
       "      <td>0.197</td>\n",
       "    </tr>\n",
       "  </tbody>\n",
       "</table>\n",
       "</div>"
      ],
      "text/plain": [
       "   Unnamed: 0  listing_id                                           comments  \\\n",
       "0           0       13913  My girlfriend and I hadn't known Alina before ...   \n",
       "1           1       13913  Alina was a really good host. The flat is clea...   \n",
       "\n",
       "                                   comments_combined  vader_compound  \\\n",
       "0  My girlfriend and I hadn't known Alina before ...          0.9982   \n",
       "1  Alina was a really good host. The flat is clea...          0.9370   \n",
       "\n",
       "   vader_neg  vader_neu  vader_pos  \n",
       "0      0.013      0.743      0.243  \n",
       "1      0.045      0.758      0.197  "
      ]
     },
     "execution_count": 14,
     "metadata": {},
     "output_type": "execute_result"
    }
   ],
   "source": [
    "df.head(2)"
   ]
  },
  {
   "cell_type": "code",
   "execution_count": 16,
   "metadata": {},
   "outputs": [
    {
     "name": "stdout",
     "output_type": "stream",
     "text": [
      "Sorry\n",
      "============================================================\n",
      "\n",
      "Sadly disappointed\n",
      "============================================================\n",
      "\n",
      "No.\n",
      "============================================================\n",
      "\n",
      "Dreadful.\n",
      "============================================================\n",
      "\n",
      "Dishonest\n",
      "============================================================\n",
      "\n",
      "Not good . Ideal :)\n",
      "============================================================\n",
      "\n",
      "HORRIBLE EXPERIENCE!!!Good\n",
      "============================================================\n",
      "\n",
      "Great!not bad\n",
      "============================================================\n",
      "\n",
      "No BreakFast.\n",
      "I don't recommend. Fantastic location!\n",
      "============================================================\n",
      "\n",
      "No complaintsøjkhø\n",
      "============================================================\n",
      "\n"
     ]
    }
   ],
   "source": [
    "for quote in df.sort_values('vader_neg', ascending=False)['comments_combined'][0:10]:\n",
    "    print(quote)\n",
    "    print('============================================================\\n')\n",
    "    \n",
    "    # This is interesting - the comments_combined feature joined the two reviews one guest gives for a host (perhaps the two reviews are displayed in different places)\n",
    "    # It seems people aren't always genuine in what they say - in one review they say 'Not good', and the next 'Ideal :)'. Maybe one is public and one is sent to the host so people try to be polite.\n",
    "    "
   ]
  },
  {
   "cell_type": "code",
   "execution_count": 17,
   "metadata": {},
   "outputs": [
    {
     "name": "stdout",
     "output_type": "stream",
     "text": [
      "Good value\n",
      "============================================================\n",
      "\n",
      "Recommended!\n",
      "============================================================\n",
      "\n",
      "Perfect! :-)\n",
      "============================================================\n",
      "\n",
      "Nice\n",
      "============================================================\n",
      "\n",
      "awesome\n",
      "============================================================\n",
      "\n",
      "good\n",
      "============================================================\n",
      "\n",
      "AMAZING\n",
      "============================================================\n",
      "\n",
      "Lovely\n",
      "============================================================\n",
      "\n",
      "ok\n",
      "============================================================\n",
      "\n",
      "Good\n",
      "============================================================\n",
      "\n"
     ]
    }
   ],
   "source": [
    "for quote in df.sort_values('vader_pos', ascending=False)['comments_combined'][0:10]:\n",
    "    print(quote)\n",
    "    print('============================================================\\n')"
   ]
  },
  {
   "cell_type": "code",
   "execution_count": 18,
   "metadata": {},
   "outputs": [],
   "source": [
    "# Save to csv because acquiring 'l' took many hours:\n",
    "df.to_csv(\"reviews_vader.csv\")"
   ]
  },
  {
   "cell_type": "code",
   "execution_count": 20,
   "metadata": {},
   "outputs": [],
   "source": [
    "# what i want is listing_id, average vader scores, comment_length_avg\n",
    "# Engineer an initial feature of title length:\n",
    "\n",
    "df['comment_length'] = [len(t.split()) for t in df['comments_combined']]"
   ]
  },
  {
   "cell_type": "code",
   "execution_count": 28,
   "metadata": {},
   "outputs": [],
   "source": [
    "# Group each listing's average scores together:\n",
    "\n",
    "averages = df.groupby('listing_id')[['vader_neg','vader_pos','vader_neu','vader_compound','comment_length']].mean()"
   ]
  },
  {
   "cell_type": "code",
   "execution_count": 29,
   "metadata": {},
   "outputs": [
    {
     "data": {
      "text/html": [
       "<div>\n",
       "<style scoped>\n",
       "    .dataframe tbody tr th:only-of-type {\n",
       "        vertical-align: middle;\n",
       "    }\n",
       "\n",
       "    .dataframe tbody tr th {\n",
       "        vertical-align: top;\n",
       "    }\n",
       "\n",
       "    .dataframe thead th {\n",
       "        text-align: right;\n",
       "    }\n",
       "</style>\n",
       "<table border=\"1\" class=\"dataframe\">\n",
       "  <thead>\n",
       "    <tr style=\"text-align: right;\">\n",
       "      <th></th>\n",
       "      <th>vader_neg</th>\n",
       "      <th>vader_pos</th>\n",
       "      <th>vader_neu</th>\n",
       "      <th>vader_compound</th>\n",
       "      <th>comment_length</th>\n",
       "    </tr>\n",
       "    <tr>\n",
       "      <th>listing_id</th>\n",
       "      <th></th>\n",
       "      <th></th>\n",
       "      <th></th>\n",
       "      <th></th>\n",
       "      <th></th>\n",
       "    </tr>\n",
       "  </thead>\n",
       "  <tbody>\n",
       "    <tr>\n",
       "      <th>9554</th>\n",
       "      <td>0.019522</td>\n",
       "      <td>0.330821</td>\n",
       "      <td>0.649664</td>\n",
       "      <td>0.650421</td>\n",
       "      <td>33.156716</td>\n",
       "    </tr>\n",
       "    <tr>\n",
       "      <th>13913</th>\n",
       "      <td>0.005857</td>\n",
       "      <td>0.289536</td>\n",
       "      <td>0.704571</td>\n",
       "      <td>0.752046</td>\n",
       "      <td>88.464286</td>\n",
       "    </tr>\n",
       "    <tr>\n",
       "      <th>15400</th>\n",
       "      <td>0.014648</td>\n",
       "      <td>0.282901</td>\n",
       "      <td>0.702463</td>\n",
       "      <td>0.798762</td>\n",
       "      <td>92.796296</td>\n",
       "    </tr>\n",
       "    <tr>\n",
       "      <th>17402</th>\n",
       "      <td>0.018679</td>\n",
       "      <td>0.255654</td>\n",
       "      <td>0.725679</td>\n",
       "      <td>0.714194</td>\n",
       "      <td>82.653846</td>\n",
       "    </tr>\n",
       "    <tr>\n",
       "      <th>24328</th>\n",
       "      <td>0.012598</td>\n",
       "      <td>0.294549</td>\n",
       "      <td>0.692832</td>\n",
       "      <td>0.769610</td>\n",
       "      <td>87.081522</td>\n",
       "    </tr>\n",
       "    <tr>\n",
       "      <th>25023</th>\n",
       "      <td>0.015538</td>\n",
       "      <td>0.301308</td>\n",
       "      <td>0.683173</td>\n",
       "      <td>0.752223</td>\n",
       "      <td>74.903846</td>\n",
       "    </tr>\n",
       "    <tr>\n",
       "      <th>25123</th>\n",
       "      <td>0.008220</td>\n",
       "      <td>0.187847</td>\n",
       "      <td>0.803936</td>\n",
       "      <td>0.550693</td>\n",
       "      <td>70.411017</td>\n",
       "    </tr>\n",
       "    <tr>\n",
       "      <th>26223</th>\n",
       "      <td>0.008339</td>\n",
       "      <td>0.142298</td>\n",
       "      <td>0.849372</td>\n",
       "      <td>0.483331</td>\n",
       "      <td>71.553719</td>\n",
       "    </tr>\n",
       "    <tr>\n",
       "      <th>26482</th>\n",
       "      <td>0.010153</td>\n",
       "      <td>0.142073</td>\n",
       "      <td>0.847773</td>\n",
       "      <td>0.458544</td>\n",
       "      <td>66.380000</td>\n",
       "    </tr>\n",
       "    <tr>\n",
       "      <th>26682</th>\n",
       "      <td>0.009300</td>\n",
       "      <td>0.115700</td>\n",
       "      <td>0.874900</td>\n",
       "      <td>0.490380</td>\n",
       "      <td>74.900000</td>\n",
       "    </tr>\n",
       "    <tr>\n",
       "      <th>31361</th>\n",
       "      <td>0.000000</td>\n",
       "      <td>0.000000</td>\n",
       "      <td>1.000000</td>\n",
       "      <td>0.000000</td>\n",
       "      <td>14.000000</td>\n",
       "    </tr>\n",
       "    <tr>\n",
       "      <th>33332</th>\n",
       "      <td>0.012000</td>\n",
       "      <td>0.056250</td>\n",
       "      <td>0.931875</td>\n",
       "      <td>0.394788</td>\n",
       "      <td>78.875000</td>\n",
       "    </tr>\n",
       "    <tr>\n",
       "      <th>34825</th>\n",
       "      <td>0.007686</td>\n",
       "      <td>0.133060</td>\n",
       "      <td>0.859274</td>\n",
       "      <td>0.479026</td>\n",
       "      <td>71.880000</td>\n",
       "    </tr>\n",
       "    <tr>\n",
       "      <th>36299</th>\n",
       "      <td>0.005211</td>\n",
       "      <td>0.143648</td>\n",
       "      <td>0.851109</td>\n",
       "      <td>0.491002</td>\n",
       "      <td>75.976562</td>\n",
       "    </tr>\n",
       "    <tr>\n",
       "      <th>36660</th>\n",
       "      <td>0.006945</td>\n",
       "      <td>0.141065</td>\n",
       "      <td>0.851994</td>\n",
       "      <td>0.479501</td>\n",
       "      <td>69.895899</td>\n",
       "    </tr>\n",
       "    <tr>\n",
       "      <th>36986</th>\n",
       "      <td>0.009765</td>\n",
       "      <td>0.124755</td>\n",
       "      <td>0.865510</td>\n",
       "      <td>0.441800</td>\n",
       "      <td>68.862745</td>\n",
       "    </tr>\n",
       "    <tr>\n",
       "      <th>37384</th>\n",
       "      <td>0.010394</td>\n",
       "      <td>0.134865</td>\n",
       "      <td>0.854702</td>\n",
       "      <td>0.437972</td>\n",
       "      <td>74.894231</td>\n",
       "    </tr>\n",
       "    <tr>\n",
       "      <th>38407</th>\n",
       "      <td>0.006055</td>\n",
       "      <td>0.140642</td>\n",
       "      <td>0.853299</td>\n",
       "      <td>0.472887</td>\n",
       "      <td>68.832117</td>\n",
       "    </tr>\n",
       "    <tr>\n",
       "      <th>38605</th>\n",
       "      <td>0.005612</td>\n",
       "      <td>0.139553</td>\n",
       "      <td>0.854847</td>\n",
       "      <td>0.476411</td>\n",
       "      <td>71.692427</td>\n",
       "    </tr>\n",
       "    <tr>\n",
       "      <th>38610</th>\n",
       "      <td>0.003553</td>\n",
       "      <td>0.140085</td>\n",
       "      <td>0.856340</td>\n",
       "      <td>0.497702</td>\n",
       "      <td>80.765957</td>\n",
       "    </tr>\n",
       "    <tr>\n",
       "      <th>39387</th>\n",
       "      <td>0.001929</td>\n",
       "      <td>0.116714</td>\n",
       "      <td>0.881357</td>\n",
       "      <td>0.490907</td>\n",
       "      <td>75.500000</td>\n",
       "    </tr>\n",
       "    <tr>\n",
       "      <th>41311</th>\n",
       "      <td>0.007916</td>\n",
       "      <td>0.135565</td>\n",
       "      <td>0.856519</td>\n",
       "      <td>0.466593</td>\n",
       "      <td>76.766234</td>\n",
       "    </tr>\n",
       "    <tr>\n",
       "      <th>41445</th>\n",
       "      <td>0.005200</td>\n",
       "      <td>0.131067</td>\n",
       "      <td>0.863700</td>\n",
       "      <td>0.473333</td>\n",
       "      <td>78.233333</td>\n",
       "    </tr>\n",
       "    <tr>\n",
       "      <th>41509</th>\n",
       "      <td>0.003870</td>\n",
       "      <td>0.138695</td>\n",
       "      <td>0.857420</td>\n",
       "      <td>0.474421</td>\n",
       "      <td>58.671756</td>\n",
       "    </tr>\n",
       "    <tr>\n",
       "      <th>41712</th>\n",
       "      <td>0.006227</td>\n",
       "      <td>0.147133</td>\n",
       "      <td>0.846633</td>\n",
       "      <td>0.468368</td>\n",
       "      <td>63.280000</td>\n",
       "    </tr>\n",
       "    <tr>\n",
       "      <th>41870</th>\n",
       "      <td>0.009250</td>\n",
       "      <td>0.109750</td>\n",
       "      <td>0.881000</td>\n",
       "      <td>0.442850</td>\n",
       "      <td>52.750000</td>\n",
       "    </tr>\n",
       "    <tr>\n",
       "      <th>42001</th>\n",
       "      <td>0.005201</td>\n",
       "      <td>0.143865</td>\n",
       "      <td>0.850918</td>\n",
       "      <td>0.476877</td>\n",
       "      <td>69.098684</td>\n",
       "    </tr>\n",
       "    <tr>\n",
       "      <th>42010</th>\n",
       "      <td>0.006579</td>\n",
       "      <td>0.145207</td>\n",
       "      <td>0.848227</td>\n",
       "      <td>0.477795</td>\n",
       "      <td>67.511501</td>\n",
       "    </tr>\n",
       "    <tr>\n",
       "      <th>43129</th>\n",
       "      <td>0.005414</td>\n",
       "      <td>0.139429</td>\n",
       "      <td>0.855151</td>\n",
       "      <td>0.444206</td>\n",
       "      <td>57.776812</td>\n",
       "    </tr>\n",
       "    <tr>\n",
       "      <th>43202</th>\n",
       "      <td>0.006127</td>\n",
       "      <td>0.150000</td>\n",
       "      <td>0.843851</td>\n",
       "      <td>0.478791</td>\n",
       "      <td>54.546961</td>\n",
       "    </tr>\n",
       "    <tr>\n",
       "      <th>...</th>\n",
       "      <td>...</td>\n",
       "      <td>...</td>\n",
       "      <td>...</td>\n",
       "      <td>...</td>\n",
       "      <td>...</td>\n",
       "    </tr>\n",
       "    <tr>\n",
       "      <th>32722432</th>\n",
       "      <td>0.000000</td>\n",
       "      <td>0.000000</td>\n",
       "      <td>1.000000</td>\n",
       "      <td>0.000000</td>\n",
       "      <td>14.000000</td>\n",
       "    </tr>\n",
       "    <tr>\n",
       "      <th>32724707</th>\n",
       "      <td>0.000000</td>\n",
       "      <td>0.357000</td>\n",
       "      <td>0.643000</td>\n",
       "      <td>0.985100</td>\n",
       "      <td>73.000000</td>\n",
       "    </tr>\n",
       "    <tr>\n",
       "      <th>32724818</th>\n",
       "      <td>0.000000</td>\n",
       "      <td>0.796000</td>\n",
       "      <td>0.204000</td>\n",
       "      <td>0.893400</td>\n",
       "      <td>7.000000</td>\n",
       "    </tr>\n",
       "    <tr>\n",
       "      <th>32732206</th>\n",
       "      <td>0.104000</td>\n",
       "      <td>0.259000</td>\n",
       "      <td>0.637000</td>\n",
       "      <td>0.625900</td>\n",
       "      <td>26.000000</td>\n",
       "    </tr>\n",
       "    <tr>\n",
       "      <th>32734857</th>\n",
       "      <td>0.000000</td>\n",
       "      <td>0.392000</td>\n",
       "      <td>0.608000</td>\n",
       "      <td>0.954400</td>\n",
       "      <td>34.000000</td>\n",
       "    </tr>\n",
       "    <tr>\n",
       "      <th>32735527</th>\n",
       "      <td>0.000000</td>\n",
       "      <td>0.658000</td>\n",
       "      <td>0.342000</td>\n",
       "      <td>0.984500</td>\n",
       "      <td>27.000000</td>\n",
       "    </tr>\n",
       "    <tr>\n",
       "      <th>32736100</th>\n",
       "      <td>0.000000</td>\n",
       "      <td>0.192000</td>\n",
       "      <td>0.808000</td>\n",
       "      <td>0.985300</td>\n",
       "      <td>161.000000</td>\n",
       "    </tr>\n",
       "    <tr>\n",
       "      <th>32740855</th>\n",
       "      <td>0.000000</td>\n",
       "      <td>0.000000</td>\n",
       "      <td>0.000000</td>\n",
       "      <td>0.000000</td>\n",
       "      <td>1.000000</td>\n",
       "    </tr>\n",
       "    <tr>\n",
       "      <th>32741099</th>\n",
       "      <td>0.000000</td>\n",
       "      <td>0.303000</td>\n",
       "      <td>0.697000</td>\n",
       "      <td>0.780000</td>\n",
       "      <td>21.000000</td>\n",
       "    </tr>\n",
       "    <tr>\n",
       "      <th>32745331</th>\n",
       "      <td>0.030000</td>\n",
       "      <td>0.243000</td>\n",
       "      <td>0.726000</td>\n",
       "      <td>0.959700</td>\n",
       "      <td>83.000000</td>\n",
       "    </tr>\n",
       "    <tr>\n",
       "      <th>32757658</th>\n",
       "      <td>0.000000</td>\n",
       "      <td>0.000000</td>\n",
       "      <td>1.000000</td>\n",
       "      <td>0.000000</td>\n",
       "      <td>1.000000</td>\n",
       "    </tr>\n",
       "    <tr>\n",
       "      <th>32757928</th>\n",
       "      <td>0.000000</td>\n",
       "      <td>0.142000</td>\n",
       "      <td>0.858000</td>\n",
       "      <td>0.807400</td>\n",
       "      <td>47.000000</td>\n",
       "    </tr>\n",
       "    <tr>\n",
       "      <th>32758949</th>\n",
       "      <td>0.000000</td>\n",
       "      <td>0.516000</td>\n",
       "      <td>0.484000</td>\n",
       "      <td>0.986200</td>\n",
       "      <td>44.000000</td>\n",
       "    </tr>\n",
       "    <tr>\n",
       "      <th>32761839</th>\n",
       "      <td>0.000000</td>\n",
       "      <td>0.292000</td>\n",
       "      <td>0.708000</td>\n",
       "      <td>0.659150</td>\n",
       "      <td>25.000000</td>\n",
       "    </tr>\n",
       "    <tr>\n",
       "      <th>32763433</th>\n",
       "      <td>0.000000</td>\n",
       "      <td>0.363000</td>\n",
       "      <td>0.637000</td>\n",
       "      <td>0.913600</td>\n",
       "      <td>30.000000</td>\n",
       "    </tr>\n",
       "    <tr>\n",
       "      <th>32777023</th>\n",
       "      <td>0.000000</td>\n",
       "      <td>0.517000</td>\n",
       "      <td>0.483000</td>\n",
       "      <td>0.820100</td>\n",
       "      <td>11.000000</td>\n",
       "    </tr>\n",
       "    <tr>\n",
       "      <th>32777384</th>\n",
       "      <td>0.000000</td>\n",
       "      <td>0.333000</td>\n",
       "      <td>0.667000</td>\n",
       "      <td>0.987200</td>\n",
       "      <td>90.000000</td>\n",
       "    </tr>\n",
       "    <tr>\n",
       "      <th>32784891</th>\n",
       "      <td>0.000000</td>\n",
       "      <td>0.559000</td>\n",
       "      <td>0.441000</td>\n",
       "      <td>0.913200</td>\n",
       "      <td>14.000000</td>\n",
       "    </tr>\n",
       "    <tr>\n",
       "      <th>32787670</th>\n",
       "      <td>0.000000</td>\n",
       "      <td>0.000000</td>\n",
       "      <td>1.000000</td>\n",
       "      <td>0.000000</td>\n",
       "      <td>3.000000</td>\n",
       "    </tr>\n",
       "    <tr>\n",
       "      <th>32797108</th>\n",
       "      <td>0.000000</td>\n",
       "      <td>0.442000</td>\n",
       "      <td>0.558000</td>\n",
       "      <td>0.883000</td>\n",
       "      <td>18.000000</td>\n",
       "    </tr>\n",
       "    <tr>\n",
       "      <th>32803483</th>\n",
       "      <td>0.000000</td>\n",
       "      <td>0.000000</td>\n",
       "      <td>1.000000</td>\n",
       "      <td>0.000000</td>\n",
       "      <td>14.000000</td>\n",
       "    </tr>\n",
       "    <tr>\n",
       "      <th>32807396</th>\n",
       "      <td>0.000000</td>\n",
       "      <td>0.000000</td>\n",
       "      <td>1.000000</td>\n",
       "      <td>0.000000</td>\n",
       "      <td>1.000000</td>\n",
       "    </tr>\n",
       "    <tr>\n",
       "      <th>32817424</th>\n",
       "      <td>0.000000</td>\n",
       "      <td>0.695000</td>\n",
       "      <td>0.305000</td>\n",
       "      <td>0.886000</td>\n",
       "      <td>10.000000</td>\n",
       "    </tr>\n",
       "    <tr>\n",
       "      <th>32821894</th>\n",
       "      <td>0.037000</td>\n",
       "      <td>0.170000</td>\n",
       "      <td>0.793000</td>\n",
       "      <td>0.977100</td>\n",
       "      <td>169.000000</td>\n",
       "    </tr>\n",
       "    <tr>\n",
       "      <th>32831543</th>\n",
       "      <td>0.257000</td>\n",
       "      <td>0.038000</td>\n",
       "      <td>0.706000</td>\n",
       "      <td>-0.942200</td>\n",
       "      <td>57.000000</td>\n",
       "    </tr>\n",
       "    <tr>\n",
       "      <th>32854538</th>\n",
       "      <td>0.000000</td>\n",
       "      <td>0.153000</td>\n",
       "      <td>0.847000</td>\n",
       "      <td>0.202300</td>\n",
       "      <td>11.000000</td>\n",
       "    </tr>\n",
       "    <tr>\n",
       "      <th>32857657</th>\n",
       "      <td>0.000000</td>\n",
       "      <td>0.385000</td>\n",
       "      <td>0.615000</td>\n",
       "      <td>0.971200</td>\n",
       "      <td>51.000000</td>\n",
       "    </tr>\n",
       "    <tr>\n",
       "      <th>32862386</th>\n",
       "      <td>0.014000</td>\n",
       "      <td>0.449000</td>\n",
       "      <td>0.537000</td>\n",
       "      <td>0.937500</td>\n",
       "      <td>30.000000</td>\n",
       "    </tr>\n",
       "    <tr>\n",
       "      <th>32864984</th>\n",
       "      <td>0.040000</td>\n",
       "      <td>0.094000</td>\n",
       "      <td>0.865000</td>\n",
       "      <td>0.912700</td>\n",
       "      <td>175.000000</td>\n",
       "    </tr>\n",
       "    <tr>\n",
       "      <th>32878816</th>\n",
       "      <td>0.047000</td>\n",
       "      <td>0.345000</td>\n",
       "      <td>0.608000</td>\n",
       "      <td>0.994600</td>\n",
       "      <td>122.000000</td>\n",
       "    </tr>\n",
       "  </tbody>\n",
       "</table>\n",
       "<p>62677 rows × 5 columns</p>\n",
       "</div>"
      ],
      "text/plain": [
       "            vader_neg  vader_pos  vader_neu  vader_compound  comment_length\n",
       "listing_id                                                                 \n",
       "9554         0.019522   0.330821   0.649664        0.650421       33.156716\n",
       "13913        0.005857   0.289536   0.704571        0.752046       88.464286\n",
       "15400        0.014648   0.282901   0.702463        0.798762       92.796296\n",
       "17402        0.018679   0.255654   0.725679        0.714194       82.653846\n",
       "24328        0.012598   0.294549   0.692832        0.769610       87.081522\n",
       "25023        0.015538   0.301308   0.683173        0.752223       74.903846\n",
       "25123        0.008220   0.187847   0.803936        0.550693       70.411017\n",
       "26223        0.008339   0.142298   0.849372        0.483331       71.553719\n",
       "26482        0.010153   0.142073   0.847773        0.458544       66.380000\n",
       "26682        0.009300   0.115700   0.874900        0.490380       74.900000\n",
       "31361        0.000000   0.000000   1.000000        0.000000       14.000000\n",
       "33332        0.012000   0.056250   0.931875        0.394788       78.875000\n",
       "34825        0.007686   0.133060   0.859274        0.479026       71.880000\n",
       "36299        0.005211   0.143648   0.851109        0.491002       75.976562\n",
       "36660        0.006945   0.141065   0.851994        0.479501       69.895899\n",
       "36986        0.009765   0.124755   0.865510        0.441800       68.862745\n",
       "37384        0.010394   0.134865   0.854702        0.437972       74.894231\n",
       "38407        0.006055   0.140642   0.853299        0.472887       68.832117\n",
       "38605        0.005612   0.139553   0.854847        0.476411       71.692427\n",
       "38610        0.003553   0.140085   0.856340        0.497702       80.765957\n",
       "39387        0.001929   0.116714   0.881357        0.490907       75.500000\n",
       "41311        0.007916   0.135565   0.856519        0.466593       76.766234\n",
       "41445        0.005200   0.131067   0.863700        0.473333       78.233333\n",
       "41509        0.003870   0.138695   0.857420        0.474421       58.671756\n",
       "41712        0.006227   0.147133   0.846633        0.468368       63.280000\n",
       "41870        0.009250   0.109750   0.881000        0.442850       52.750000\n",
       "42001        0.005201   0.143865   0.850918        0.476877       69.098684\n",
       "42010        0.006579   0.145207   0.848227        0.477795       67.511501\n",
       "43129        0.005414   0.139429   0.855151        0.444206       57.776812\n",
       "43202        0.006127   0.150000   0.843851        0.478791       54.546961\n",
       "...               ...        ...        ...             ...             ...\n",
       "32722432     0.000000   0.000000   1.000000        0.000000       14.000000\n",
       "32724707     0.000000   0.357000   0.643000        0.985100       73.000000\n",
       "32724818     0.000000   0.796000   0.204000        0.893400        7.000000\n",
       "32732206     0.104000   0.259000   0.637000        0.625900       26.000000\n",
       "32734857     0.000000   0.392000   0.608000        0.954400       34.000000\n",
       "32735527     0.000000   0.658000   0.342000        0.984500       27.000000\n",
       "32736100     0.000000   0.192000   0.808000        0.985300      161.000000\n",
       "32740855     0.000000   0.000000   0.000000        0.000000        1.000000\n",
       "32741099     0.000000   0.303000   0.697000        0.780000       21.000000\n",
       "32745331     0.030000   0.243000   0.726000        0.959700       83.000000\n",
       "32757658     0.000000   0.000000   1.000000        0.000000        1.000000\n",
       "32757928     0.000000   0.142000   0.858000        0.807400       47.000000\n",
       "32758949     0.000000   0.516000   0.484000        0.986200       44.000000\n",
       "32761839     0.000000   0.292000   0.708000        0.659150       25.000000\n",
       "32763433     0.000000   0.363000   0.637000        0.913600       30.000000\n",
       "32777023     0.000000   0.517000   0.483000        0.820100       11.000000\n",
       "32777384     0.000000   0.333000   0.667000        0.987200       90.000000\n",
       "32784891     0.000000   0.559000   0.441000        0.913200       14.000000\n",
       "32787670     0.000000   0.000000   1.000000        0.000000        3.000000\n",
       "32797108     0.000000   0.442000   0.558000        0.883000       18.000000\n",
       "32803483     0.000000   0.000000   1.000000        0.000000       14.000000\n",
       "32807396     0.000000   0.000000   1.000000        0.000000        1.000000\n",
       "32817424     0.000000   0.695000   0.305000        0.886000       10.000000\n",
       "32821894     0.037000   0.170000   0.793000        0.977100      169.000000\n",
       "32831543     0.257000   0.038000   0.706000       -0.942200       57.000000\n",
       "32854538     0.000000   0.153000   0.847000        0.202300       11.000000\n",
       "32857657     0.000000   0.385000   0.615000        0.971200       51.000000\n",
       "32862386     0.014000   0.449000   0.537000        0.937500       30.000000\n",
       "32864984     0.040000   0.094000   0.865000        0.912700      175.000000\n",
       "32878816     0.047000   0.345000   0.608000        0.994600      122.000000\n",
       "\n",
       "[62677 rows x 5 columns]"
      ]
     },
     "execution_count": 29,
     "metadata": {},
     "output_type": "execute_result"
    }
   ],
   "source": [
    "averages"
   ]
  },
  {
   "cell_type": "code",
   "execution_count": 33,
   "metadata": {},
   "outputs": [
    {
     "data": {
      "text/plain": [
       "0.3591181506038425"
      ]
     },
     "execution_count": 33,
     "metadata": {},
     "output_type": "execute_result"
    }
   ],
   "source": [
    "averages.comment_length.corr(averages.vader_compound)"
   ]
  },
  {
   "cell_type": "code",
   "execution_count": 37,
   "metadata": {
    "scrolled": true
   },
   "outputs": [
    {
     "data": {
      "text/plain": [
       "(array([6.0000e+00, 5.0000e+00, 2.0000e+00, 1.0000e+00, 1.0000e+00,\n",
       "        4.0000e+00, 1.0000e+00, 3.0000e+00, 0.0000e+00, 3.0000e+00,\n",
       "        0.0000e+00, 4.0000e+00, 2.8000e+01, 4.6000e+01, 2.2000e+01,\n",
       "        1.7000e+01, 1.8000e+01, 3.0000e+01, 2.7000e+01, 1.7000e+01,\n",
       "        3.0000e+01, 3.6000e+01, 3.2000e+01, 3.6000e+01, 3.8610e+03,\n",
       "        1.0700e+02, 1.0300e+02, 1.3200e+02, 2.1000e+02, 3.2800e+02,\n",
       "        4.9900e+02, 7.1700e+02, 1.2600e+03, 2.2320e+03, 4.3500e+03,\n",
       "        9.2870e+03, 1.9773e+04, 1.4216e+04, 1.1330e+03, 5.5000e+02,\n",
       "        3.4500e+02, 2.9500e+02, 1.8500e+02, 1.7900e+02, 1.7800e+02,\n",
       "        2.6600e+02, 3.2400e+02, 4.6400e+02, 6.2300e+02, 6.9100e+02]),\n",
       " array([-0.9957  , -0.955822, -0.915944, -0.876066, -0.836188, -0.79631 ,\n",
       "        -0.756432, -0.716554, -0.676676, -0.636798, -0.59692 , -0.557042,\n",
       "        -0.517164, -0.477286, -0.437408, -0.39753 , -0.357652, -0.317774,\n",
       "        -0.277896, -0.238018, -0.19814 , -0.158262, -0.118384, -0.078506,\n",
       "        -0.038628,  0.00125 ,  0.041128,  0.081006,  0.120884,  0.160762,\n",
       "         0.20064 ,  0.240518,  0.280396,  0.320274,  0.360152,  0.40003 ,\n",
       "         0.439908,  0.479786,  0.519664,  0.559542,  0.59942 ,  0.639298,\n",
       "         0.679176,  0.719054,  0.758932,  0.79881 ,  0.838688,  0.878566,\n",
       "         0.918444,  0.958322,  0.9982  ]),\n",
       " <a list of 50 Patch objects>)"
      ]
     },
     "execution_count": 37,
     "metadata": {},
     "output_type": "execute_result"
    },
    {
     "data": {
      "image/png": "[encoded data removed]",
      "text/plain": [
       "<Figure size 432x288 with 1 Axes>"
      ]
     },
     "metadata": {
      "needs_background": "light"
     },
     "output_type": "display_data"
    }
   ],
   "source": [
    "plt.hist(averages.vader_compound,bins=50)"
   ]
  },
  {
   "cell_type": "code",
   "execution_count": null,
   "metadata": {},
   "outputs": [],
   "source": [
    "# Bring in data_cleaned file. Merge reviews grouped stuff onto data_cleaned joining on listing_id.\n",
    "# Any nulls on vader scores - put as neutral rather than deleting rows.\n",
    "# Shouldn't be any nulls as deleted people without reviews I believe."
   ]
  },
  {
   "cell_type": "code",
   "execution_count": 38,
   "metadata": {},
   "outputs": [],
   "source": [
    "averages.to_csv(\"/Users/bridmcnulty/Desktop/reviews_vader_scores.csv\")"
   ]
  },
  {
   "cell_type": "code",
   "execution_count": null,
   "metadata": {},
   "outputs": [],
   "source": []
  },
  {
   "cell_type": "code",
   "execution_count": null,
   "metadata": {},
   "outputs": [],
   "source": []
  },
  {
   "cell_type": "code",
   "execution_count": 13,
   "metadata": {},
   "outputs": [
    {
     "data": {
      "text/html": [
       "<div>\n",
       "<style scoped>\n",
       "    .dataframe tbody tr th:only-of-type {\n",
       "        vertical-align: middle;\n",
       "    }\n",
       "\n",
       "    .dataframe tbody tr th {\n",
       "        vertical-align: top;\n",
       "    }\n",
       "\n",
       "    .dataframe thead th {\n",
       "        text-align: right;\n",
       "    }\n",
       "</style>\n",
       "<table border=\"1\" class=\"dataframe\">\n",
       "  <thead>\n",
       "    <tr style=\"text-align: right;\">\n",
       "      <th></th>\n",
       "      <th>id</th>\n",
       "      <th>income_class</th>\n",
       "    </tr>\n",
       "  </thead>\n",
       "  <tbody>\n",
       "    <tr>\n",
       "      <th>0</th>\n",
       "      <td>13913</td>\n",
       "      <td>D</td>\n",
       "    </tr>\n",
       "    <tr>\n",
       "      <th>1</th>\n",
       "      <td>15400</td>\n",
       "      <td>C</td>\n",
       "    </tr>\n",
       "  </tbody>\n",
       "</table>\n",
       "</div>"
      ],
      "text/plain": [
       "      id income_class\n",
       "0  13913            D\n",
       "1  15400            C"
      ]
     },
     "execution_count": 13,
     "metadata": {},
     "output_type": "execute_result"
    }
   ],
   "source": [
    "income_classes = pd.read_csv(\"/Users/bridmcnulty/Desktop/id_and_income_class_imbalanced.csv\")\n",
    "income_classes.drop(columns=['Unnamed: 0'],inplace=True)\n",
    "income_classes.head(2)"
   ]
  },
  {
   "cell_type": "code",
   "execution_count": 14,
   "metadata": {},
   "outputs": [
    {
     "data": {
      "text/html": [
       "<div>\n",
       "<style scoped>\n",
       "    .dataframe tbody tr th:only-of-type {\n",
       "        vertical-align: middle;\n",
       "    }\n",
       "\n",
       "    .dataframe tbody tr th {\n",
       "        vertical-align: top;\n",
       "    }\n",
       "\n",
       "    .dataframe thead th {\n",
       "        text-align: right;\n",
       "    }\n",
       "</style>\n",
       "<table border=\"1\" class=\"dataframe\">\n",
       "  <thead>\n",
       "    <tr style=\"text-align: right;\">\n",
       "      <th></th>\n",
       "      <th>Unnamed: 0</th>\n",
       "      <th>listing_id</th>\n",
       "      <th>comments</th>\n",
       "      <th>comments_combined</th>\n",
       "      <th>id</th>\n",
       "      <th>income_class</th>\n",
       "    </tr>\n",
       "  </thead>\n",
       "  <tbody>\n",
       "    <tr>\n",
       "      <th>0</th>\n",
       "      <td>0</td>\n",
       "      <td>13913</td>\n",
       "      <td>My girlfriend and I hadn't known Alina before ...</td>\n",
       "      <td>My girlfriend and I hadn't known Alina before ...</td>\n",
       "      <td>13913.0</td>\n",
       "      <td>D</td>\n",
       "    </tr>\n",
       "    <tr>\n",
       "      <th>1</th>\n",
       "      <td>1</td>\n",
       "      <td>13913</td>\n",
       "      <td>Alina was a really good host. The flat is clea...</td>\n",
       "      <td>Alina was a really good host. The flat is clea...</td>\n",
       "      <td>13913.0</td>\n",
       "      <td>D</td>\n",
       "    </tr>\n",
       "  </tbody>\n",
       "</table>\n",
       "</div>"
      ],
      "text/plain": [
       "   Unnamed: 0  listing_id                                           comments  \\\n",
       "0           0       13913  My girlfriend and I hadn't known Alina before ...   \n",
       "1           1       13913  Alina was a really good host. The flat is clea...   \n",
       "\n",
       "                                   comments_combined       id income_class  \n",
       "0  My girlfriend and I hadn't known Alina before ...  13913.0            D  \n",
       "1  Alina was a really good host. The flat is clea...  13913.0            D  "
      ]
     },
     "execution_count": 14,
     "metadata": {},
     "output_type": "execute_result"
    }
   ],
   "source": [
    "df = df.merge(income_classes, how='left',left_on='listing_id',right_on='id')\n",
    "df.head(2)"
   ]
  },
  {
   "cell_type": "code",
   "execution_count": 15,
   "metadata": {},
   "outputs": [],
   "source": [
    "# Subset each income class to do word clouds on:\n",
    "\n",
    "A = df[df['income_class']=='A']\n",
    "B = df[df['income_class']=='B']\n",
    "C = df[df['income_class']=='C']\n",
    "D = df[df['income_class']=='D']"
   ]
  },
  {
   "cell_type": "code",
   "execution_count": null,
   "metadata": {},
   "outputs": [],
   "source": [
    "# importing all necessery modules \n",
    "from wordcloud import WordCloud, STOPWORDS \n",
    "import matplotlib.pyplot as plt \n",
    "import pandas as pd \n",
    "\n",
    "comment_words = ' '\n",
    "stopwords = set(STOPWORDS) \n",
    "  \n",
    "# iterate through the csv file \n",
    "for val in A.comments_combined: \n",
    "      \n",
    "    # typecaste each val to string \n",
    "    val = str(val) \n",
    "  \n",
    "    # split the value \n",
    "    tokens = val.split() \n",
    "      \n",
    "    # Converts each token into lowercase \n",
    "    for i in range(len(tokens)): \n",
    "        tokens[i] = tokens[i].lower() \n",
    "          \n",
    "    for words in tokens: \n",
    "        comment_words = comment_words + words + ' '\n",
    "  \n",
    "  \n",
    "wordcloud = WordCloud(width = 800, height = 800, \n",
    "                background_color ='white', \n",
    "                stopwords = stopwords, \n",
    "                min_font_size = 10).generate(comment_words) \n",
    "  \n",
    "# plot the WordCloud image                        \n",
    "plt.figure(figsize = (8, 8), facecolor = None) \n",
    "plt.imshow(wordcloud) \n",
    "plt.axis(\"off\") \n",
    "plt.tight_layout(pad = 0) \n",
    "  \n",
    "plt.show()"
   ]
  },
  {
   "cell_type": "code",
   "execution_count": null,
   "metadata": {},
   "outputs": [],
   "source": []
  }
 ],
 "metadata": {
  "kernelspec": {
   "display_name": "Python 3",
   "language": "python",
   "name": "python3"
  },
  "language_info": {
   "codemirror_mode": {
    "name": "ipython",
    "version": 3
   },
   "file_extension": ".py",
   "mimetype": "text/x-python",
   "name": "python",
   "nbconvert_exporter": "python",
   "pygments_lexer": "ipython3",
   "version": "3.7.1"
  }
 },
 "nbformat": 4,
 "nbformat_minor": 2
}
