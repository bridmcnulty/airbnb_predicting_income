{
 "cells": [
  {
   "cell_type": "code",
   "execution_count": 169,
   "metadata": {},
   "outputs": [
    {
     "data": {
      "text/html": [
       "<div>\n",
       "<style scoped>\n",
       "    .dataframe tbody tr th:only-of-type {\n",
       "        vertical-align: middle;\n",
       "    }\n",
       "\n",
       "    .dataframe tbody tr th {\n",
       "        vertical-align: top;\n",
       "    }\n",
       "\n",
       "    .dataframe thead th {\n",
       "        text-align: right;\n",
       "    }\n",
       "</style>\n",
       "<table border=\"1\" class=\"dataframe\">\n",
       "  <thead>\n",
       "    <tr style=\"text-align: right;\">\n",
       "      <th></th>\n",
       "      <th>Unnamed: 0</th>\n",
       "      <th>id</th>\n",
       "      <th>host_id</th>\n",
       "      <th>host_name</th>\n",
       "      <th>host_response_time</th>\n",
       "      <th>host_response_rate</th>\n",
       "      <th>host_is_superhost</th>\n",
       "      <th>host_listings_count</th>\n",
       "      <th>host_verifications</th>\n",
       "      <th>host_has_profile_pic</th>\n",
       "      <th>...</th>\n",
       "      <th>host_since_ago</th>\n",
       "      <th>latlongzip</th>\n",
       "      <th>tube_proximity</th>\n",
       "      <th>price_pp</th>\n",
       "      <th>estimated_monthly_bookings</th>\n",
       "      <th>avg_length_of_stay</th>\n",
       "      <th>new_or</th>\n",
       "      <th>capped_or</th>\n",
       "      <th>capped_or_income</th>\n",
       "      <th>capped_or_income_less_cleaning_fee</th>\n",
       "    </tr>\n",
       "  </thead>\n",
       "  <tbody>\n",
       "    <tr>\n",
       "      <th>0</th>\n",
       "      <td>0</td>\n",
       "      <td>13913</td>\n",
       "      <td>54730</td>\n",
       "      <td>Alina</td>\n",
       "      <td>within a day</td>\n",
       "      <td>60.0</td>\n",
       "      <td>0</td>\n",
       "      <td>4.0</td>\n",
       "      <td>['email', 'phone', 'facebook', 'reviews']</td>\n",
       "      <td>1</td>\n",
       "      <td>...</td>\n",
       "      <td>3467</td>\n",
       "      <td>(51.568020000000004, -0.11120999999999999)</td>\n",
       "      <td>0.523494</td>\n",
       "      <td>32.500000</td>\n",
       "      <td>0.26</td>\n",
       "      <td>4.6</td>\n",
       "      <td>0.01196</td>\n",
       "      <td>0.01196</td>\n",
       "      <td>20.8</td>\n",
       "      <td>16.9</td>\n",
       "    </tr>\n",
       "    <tr>\n",
       "      <th>1</th>\n",
       "      <td>1</td>\n",
       "      <td>15400</td>\n",
       "      <td>60302</td>\n",
       "      <td>Philippa</td>\n",
       "      <td>within a few hours</td>\n",
       "      <td>100.0</td>\n",
       "      <td>0</td>\n",
       "      <td>1.0</td>\n",
       "      <td>['email', 'phone', 'reviews', 'jumio', 'govern...</td>\n",
       "      <td>1</td>\n",
       "      <td>...</td>\n",
       "      <td>3448</td>\n",
       "      <td>(51.48796, -0.16898)</td>\n",
       "      <td>0.728651</td>\n",
       "      <td>50.000000</td>\n",
       "      <td>1.44</td>\n",
       "      <td>4.6</td>\n",
       "      <td>0.06624</td>\n",
       "      <td>0.06624</td>\n",
       "      <td>216.0</td>\n",
       "      <td>144.0</td>\n",
       "    </tr>\n",
       "    <tr>\n",
       "      <th>2</th>\n",
       "      <td>2</td>\n",
       "      <td>17402</td>\n",
       "      <td>67564</td>\n",
       "      <td>Liz</td>\n",
       "      <td>within a few hours</td>\n",
       "      <td>88.0</td>\n",
       "      <td>1</td>\n",
       "      <td>16.0</td>\n",
       "      <td>['email', 'phone', 'reviews', 'jumio', 'offlin...</td>\n",
       "      <td>1</td>\n",
       "      <td>...</td>\n",
       "      <td>3418</td>\n",
       "      <td>(51.52098, -0.14002)</td>\n",
       "      <td>0.390565</td>\n",
       "      <td>83.333333</td>\n",
       "      <td>0.80</td>\n",
       "      <td>4.6</td>\n",
       "      <td>0.03680</td>\n",
       "      <td>0.03680</td>\n",
       "      <td>452.0</td>\n",
       "      <td>400.0</td>\n",
       "    </tr>\n",
       "    <tr>\n",
       "      <th>3</th>\n",
       "      <td>3</td>\n",
       "      <td>24328</td>\n",
       "      <td>41759</td>\n",
       "      <td>Joe</td>\n",
       "      <td>within a day</td>\n",
       "      <td>100.0</td>\n",
       "      <td>1</td>\n",
       "      <td>3.0</td>\n",
       "      <td>['email', 'phone', 'reviews', 'jumio', 'offlin...</td>\n",
       "      <td>1</td>\n",
       "      <td>...</td>\n",
       "      <td>3516</td>\n",
       "      <td>(51.47298, -0.16376)</td>\n",
       "      <td>2.189671</td>\n",
       "      <td>43.750000</td>\n",
       "      <td>1.82</td>\n",
       "      <td>30.0</td>\n",
       "      <td>0.54600</td>\n",
       "      <td>0.54600</td>\n",
       "      <td>445.9</td>\n",
       "      <td>318.5</td>\n",
       "    </tr>\n",
       "    <tr>\n",
       "      <th>4</th>\n",
       "      <td>4</td>\n",
       "      <td>25023</td>\n",
       "      <td>102813</td>\n",
       "      <td>Amanda</td>\n",
       "      <td>within an hour</td>\n",
       "      <td>100.0</td>\n",
       "      <td>1</td>\n",
       "      <td>1.0</td>\n",
       "      <td>['email', 'phone', 'reviews']</td>\n",
       "      <td>1</td>\n",
       "      <td>...</td>\n",
       "      <td>3329</td>\n",
       "      <td>(51.446870000000004, -0.21874000000000002)</td>\n",
       "      <td>0.877523</td>\n",
       "      <td>16.250000</td>\n",
       "      <td>1.42</td>\n",
       "      <td>4.6</td>\n",
       "      <td>0.06532</td>\n",
       "      <td>0.06532</td>\n",
       "      <td>163.3</td>\n",
       "      <td>92.3</td>\n",
       "    </tr>\n",
       "  </tbody>\n",
       "</table>\n",
       "<p>5 rows × 58 columns</p>\n",
       "</div>"
      ],
      "text/plain": [
       "   Unnamed: 0     id  host_id host_name  host_response_time  \\\n",
       "0           0  13913    54730     Alina        within a day   \n",
       "1           1  15400    60302  Philippa  within a few hours   \n",
       "2           2  17402    67564       Liz  within a few hours   \n",
       "3           3  24328    41759       Joe        within a day   \n",
       "4           4  25023   102813    Amanda      within an hour   \n",
       "\n",
       "   host_response_rate  host_is_superhost  host_listings_count  \\\n",
       "0                60.0                  0                  4.0   \n",
       "1               100.0                  0                  1.0   \n",
       "2                88.0                  1                 16.0   \n",
       "3               100.0                  1                  3.0   \n",
       "4               100.0                  1                  1.0   \n",
       "\n",
       "                                  host_verifications  host_has_profile_pic  \\\n",
       "0          ['email', 'phone', 'facebook', 'reviews']                     1   \n",
       "1  ['email', 'phone', 'reviews', 'jumio', 'govern...                     1   \n",
       "2  ['email', 'phone', 'reviews', 'jumio', 'offlin...                     1   \n",
       "3  ['email', 'phone', 'reviews', 'jumio', 'offlin...                     1   \n",
       "4                      ['email', 'phone', 'reviews']                     1   \n",
       "\n",
       "                  ...                  host_since_ago  \\\n",
       "0                 ...                            3467   \n",
       "1                 ...                            3448   \n",
       "2                 ...                            3418   \n",
       "3                 ...                            3516   \n",
       "4                 ...                            3329   \n",
       "\n",
       "                                   latlongzip  tube_proximity   price_pp  \\\n",
       "0  (51.568020000000004, -0.11120999999999999)        0.523494  32.500000   \n",
       "1                        (51.48796, -0.16898)        0.728651  50.000000   \n",
       "2                        (51.52098, -0.14002)        0.390565  83.333333   \n",
       "3                        (51.47298, -0.16376)        2.189671  43.750000   \n",
       "4  (51.446870000000004, -0.21874000000000002)        0.877523  16.250000   \n",
       "\n",
       "  estimated_monthly_bookings avg_length_of_stay   new_or  capped_or  \\\n",
       "0                       0.26                4.6  0.01196    0.01196   \n",
       "1                       1.44                4.6  0.06624    0.06624   \n",
       "2                       0.80                4.6  0.03680    0.03680   \n",
       "3                       1.82               30.0  0.54600    0.54600   \n",
       "4                       1.42                4.6  0.06532    0.06532   \n",
       "\n",
       "   capped_or_income  capped_or_income_less_cleaning_fee  \n",
       "0              20.8                                16.9  \n",
       "1             216.0                               144.0  \n",
       "2             452.0                               400.0  \n",
       "3             445.9                               318.5  \n",
       "4             163.3                                92.3  \n",
       "\n",
       "[5 rows x 58 columns]"
      ]
     },
     "execution_count": 169,
     "metadata": {},
     "output_type": "execute_result"
    }
   ],
   "source": [
    "import pandas as pd\n",
    "import numpy as np\n",
    "import requests\n",
    "import matplotlib.pyplot as plt\n",
    "import seaborn as sns\n",
    "from sklearn.model_selection import train_test_split, cross_val_score, GridSearchCV\n",
    "from sklearn import datasets, metrics\n",
    "from sklearn.preprocessing import StandardScaler\n",
    "from sklearn.linear_model import LogisticRegression, LogisticRegressionCV, LinearRegression\n",
    "\n",
    "df = pd.read_csv(\"/Users/bridmcnulty/Desktop/cleaned_data.csv\", low_memory=False)\n",
    "df.head()"
   ]
  },
  {
   "cell_type": "code",
   "execution_count": 170,
   "metadata": {},
   "outputs": [
    {
     "data": {
      "text/plain": [
       "['TV',\n",
       " 'Cable TV',\n",
       " 'Wifi',\n",
       " 'Kitchen',\n",
       " 'Free parking on premises',\n",
       " 'Heating',\n",
       " 'Washer',\n",
       " 'Smoke detector',\n",
       " 'Carbon monoxide detector',\n",
       " 'Fire extinguisher',\n",
       " 'Essentials',\n",
       " 'Shampoo',\n",
       " 'Lock on bedroom door',\n",
       " 'Hangers',\n",
       " 'Hair dryer',\n",
       " 'Iron',\n",
       " 'Laptop friendly workspace',\n",
       " 'Hot water',\n",
       " 'Bed linens',\n",
       " 'Extra pillows and blankets',\n",
       " 'Microwave',\n",
       " 'Coffee maker',\n",
       " 'Refrigerator',\n",
       " 'Dishwasher',\n",
       " 'Dishes and silverware',\n",
       " 'Cooking basics',\n",
       " 'Oven',\n",
       " 'Stove',\n",
       " 'Garden or backyard',\n",
       " 'Luggage dropoff allowed',\n",
       " 'Long term stays allowed',\n",
       " 'Other']"
      ]
     },
     "execution_count": 170,
     "metadata": {},
     "output_type": "execute_result"
    }
   ],
   "source": [
    "import re\n",
    "amen = df.amenities[50]\n",
    "amen = amen.replace('\"','').replace('{','').replace('}','')\n",
    "amen = amen.split(\",\")\n",
    "amen"
   ]
  },
  {
   "cell_type": "code",
   "execution_count": 171,
   "metadata": {},
   "outputs": [
    {
     "data": {
      "text/plain": [
       "1    44538\n",
       "0     1077\n",
       "Name: a_wifi, dtype: int64"
      ]
     },
     "execution_count": 171,
     "metadata": {},
     "output_type": "execute_result"
    }
   ],
   "source": [
    "def amenity_counter(x):\n",
    "    return x.count(r'Wifi')\n",
    "\n",
    "df['a_wifi'] = df.amenities.map(amenity_counter)\n",
    "df.a_wifi.value_counts()"
   ]
  },
  {
   "cell_type": "code",
   "execution_count": 172,
   "metadata": {},
   "outputs": [
    {
     "data": {
      "text/plain": [
       "1    24894\n",
       "0    12504\n",
       "2     8077\n",
       "3      139\n",
       "4        1\n",
       "Name: a_TV, dtype: int64"
      ]
     },
     "execution_count": 172,
     "metadata": {},
     "output_type": "execute_result"
    }
   ],
   "source": [
    "def amenity_counter(x):\n",
    "    return x.count(r'TV')\n",
    "\n",
    "df['a_TV'] = df.amenities.map(amenity_counter)\n",
    "df.a_TV.value_counts()"
   ]
  },
  {
   "cell_type": "code",
   "execution_count": 173,
   "metadata": {},
   "outputs": [
    {
     "data": {
      "text/plain": [
       "0    37360\n",
       "1     8255\n",
       "Name: a_cable_tv, dtype: int64"
      ]
     },
     "execution_count": 173,
     "metadata": {},
     "output_type": "execute_result"
    }
   ],
   "source": [
    "def amenity_counter(x):\n",
    "    return x.count(r'Cable TV')\n",
    "\n",
    "df['a_cable_tv'] = df.amenities.map(amenity_counter)\n",
    "df.a_cable_tv.value_counts()"
   ]
  },
  {
   "cell_type": "code",
   "execution_count": 174,
   "metadata": {},
   "outputs": [
    {
     "data": {
      "text/plain": [
       "1    41750\n",
       "0     3808\n",
       "2       57\n",
       "Name: a_kitchen, dtype: int64"
      ]
     },
     "execution_count": 174,
     "metadata": {},
     "output_type": "execute_result"
    }
   ],
   "source": [
    "def amenity_counter(x):\n",
    "    return x.count(r'Kitchen')\n",
    "\n",
    "df['a_kitchen'] = df.amenities.map(amenity_counter)\n",
    "df.a_kitchen.value_counts()"
   ]
  },
  {
   "cell_type": "code",
   "execution_count": 175,
   "metadata": {},
   "outputs": [
    {
     "data": {
      "text/plain": [
       "0    35598\n",
       "1    10017\n",
       "Name: a_paid_parking_off_premises, dtype: int64"
      ]
     },
     "execution_count": 175,
     "metadata": {},
     "output_type": "execute_result"
    }
   ],
   "source": [
    "def amenity_counter(x):\n",
    "    return x.count(r'Paid parking off premises')\n",
    "\n",
    "df['a_paid_parking_off_premises'] = df.amenities.map(amenity_counter)\n",
    "df.a_paid_parking_off_premises.value_counts()"
   ]
  },
  {
   "cell_type": "code",
   "execution_count": 176,
   "metadata": {},
   "outputs": [
    {
     "data": {
      "text/plain": [
       "0    42834\n",
       "1     2781\n",
       "Name: a_smoking_allowed, dtype: int64"
      ]
     },
     "execution_count": 176,
     "metadata": {},
     "output_type": "execute_result"
    }
   ],
   "source": [
    "def amenity_counter(x):\n",
    "    return x.count(r'Smoking allowed')\n",
    "\n",
    "df['a_smoking_allowed'] = df.amenities.map(amenity_counter)\n",
    "df.a_smoking_allowed.value_counts()"
   ]
  },
  {
   "cell_type": "code",
   "execution_count": 177,
   "metadata": {},
   "outputs": [
    {
     "data": {
      "text/plain": [
       "0    40417\n",
       "1     5198\n",
       "Name: a_free_street_parking, dtype: int64"
      ]
     },
     "execution_count": 177,
     "metadata": {},
     "output_type": "execute_result"
    }
   ],
   "source": [
    "def amenity_counter(x):\n",
    "    return x.count(r'Free street parking')\n",
    "\n",
    "df['a_free_street_parking'] = df.amenities.map(amenity_counter)\n",
    "df.a_free_street_parking.value_counts()"
   ]
  },
  {
   "cell_type": "code",
   "execution_count": 178,
   "metadata": {},
   "outputs": [
    {
     "data": {
      "text/plain": [
       "0    39323\n",
       "1     6292\n",
       "Name: a_buzzer_intercom, dtype: int64"
      ]
     },
     "execution_count": 178,
     "metadata": {},
     "output_type": "execute_result"
    }
   ],
   "source": [
    "def amenity_counter(x):\n",
    "    return x.count(r'Buzzer/wireless intercom')\n",
    "\n",
    "df['a_buzzer_intercom'] = df.amenities.map(amenity_counter)\n",
    "df.a_buzzer_intercom.value_counts()"
   ]
  },
  {
   "cell_type": "code",
   "execution_count": 179,
   "metadata": {},
   "outputs": [
    {
     "data": {
      "text/plain": [
       "1    43818\n",
       "0     1797\n",
       "Name: a_heating, dtype: int64"
      ]
     },
     "execution_count": 179,
     "metadata": {},
     "output_type": "execute_result"
    }
   ],
   "source": [
    "def amenity_counter(x):\n",
    "    return x.count(r'Heating')\n",
    "\n",
    "df['a_heating'] = df.amenities.map(amenity_counter)\n",
    "df.a_heating.value_counts()"
   ]
  },
  {
   "cell_type": "code",
   "execution_count": 180,
   "metadata": {},
   "outputs": [
    {
     "data": {
      "text/plain": [
       "0    28493\n",
       "1    17122\n",
       "Name: a_family_friendly, dtype: int64"
      ]
     },
     "execution_count": 180,
     "metadata": {},
     "output_type": "execute_result"
    }
   ],
   "source": [
    "def amenity_counter(x):\n",
    "    return x.count(r'Family/kid friendly')\n",
    "\n",
    "df['a_family_friendly'] = df.amenities.map(amenity_counter)\n",
    "df.a_family_friendly.value_counts()"
   ]
  },
  {
   "cell_type": "code",
   "execution_count": 181,
   "metadata": {},
   "outputs": [
    {
     "data": {
      "text/plain": [
       "1    39110\n",
       "0     6503\n",
       "2        2\n",
       "Name: a_washer, dtype: int64"
      ]
     },
     "execution_count": 181,
     "metadata": {},
     "output_type": "execute_result"
    }
   ],
   "source": [
    "def amenity_counter(x):\n",
    "    return x.count(r'Washer')\n",
    "\n",
    "df['a_washer'] = df.amenities.map(amenity_counter)\n",
    "df.a_washer.value_counts()"
   ]
  },
  {
   "cell_type": "code",
   "execution_count": 182,
   "metadata": {},
   "outputs": [
    {
     "data": {
      "text/plain": [
       "0    24363\n",
       "1    21251\n",
       "2        1\n",
       "Name: a_dryer, dtype: int64"
      ]
     },
     "execution_count": 182,
     "metadata": {},
     "output_type": "execute_result"
    }
   ],
   "source": [
    "def amenity_counter(x):\n",
    "    return x.count(r'Dryer')\n",
    "\n",
    "df['a_dryer'] = df.amenities.map(amenity_counter)\n",
    "df.a_dryer.value_counts()"
   ]
  },
  {
   "cell_type": "code",
   "execution_count": 183,
   "metadata": {},
   "outputs": [
    {
     "data": {
      "text/plain": [
       "1    40424\n",
       "0     5191\n",
       "Name: a_smoke_detector, dtype: int64"
      ]
     },
     "execution_count": 183,
     "metadata": {},
     "output_type": "execute_result"
    }
   ],
   "source": [
    "def amenity_counter(x):\n",
    "    return x.count(r'Smoke detector')\n",
    "\n",
    "df['a_smoke_detector'] = df.amenities.map(amenity_counter)\n",
    "df.a_smoke_detector.value_counts()"
   ]
  },
  {
   "cell_type": "code",
   "execution_count": 184,
   "metadata": {},
   "outputs": [
    {
     "data": {
      "text/plain": [
       "1    28440\n",
       "0    17175\n",
       "Name: a_carbon_monoxide_detector, dtype: int64"
      ]
     },
     "execution_count": 184,
     "metadata": {},
     "output_type": "execute_result"
    }
   ],
   "source": [
    "def amenity_counter(x):\n",
    "    return x.count(r'Carbon monoxide detector')\n",
    "\n",
    "df['a_carbon_monoxide_detector'] = df.amenities.map(amenity_counter)\n",
    "df.a_carbon_monoxide_detector.value_counts()"
   ]
  },
  {
   "cell_type": "code",
   "execution_count": 185,
   "metadata": {},
   "outputs": [
    {
     "data": {
      "text/plain": [
       "0    29332\n",
       "1    16283\n",
       "Name: a_fire_extinguisher, dtype: int64"
      ]
     },
     "execution_count": 185,
     "metadata": {},
     "output_type": "execute_result"
    }
   ],
   "source": [
    "def amenity_counter(x):\n",
    "    return x.count(r'Fire extinguisher')\n",
    "\n",
    "df['a_fire_extinguisher'] = df.amenities.map(amenity_counter)\n",
    "df.a_fire_extinguisher.value_counts()"
   ]
  },
  {
   "cell_type": "code",
   "execution_count": 186,
   "metadata": {},
   "outputs": [
    {
     "data": {
      "text/plain": [
       "1    43945\n",
       "0     1670\n",
       "Name: a_essentials, dtype: int64"
      ]
     },
     "execution_count": 186,
     "metadata": {},
     "output_type": "execute_result"
    }
   ],
   "source": [
    "def amenity_counter(x):\n",
    "    return x.count(r'Essentials')\n",
    "\n",
    "df['a_essentials'] = df.amenities.map(amenity_counter)\n",
    "df.a_essentials.value_counts()"
   ]
  },
  {
   "cell_type": "code",
   "execution_count": 187,
   "metadata": {},
   "outputs": [
    {
     "data": {
      "text/plain": [
       "1    34483\n",
       "0    11132\n",
       "Name: a_shampoo, dtype: int64"
      ]
     },
     "execution_count": 187,
     "metadata": {},
     "output_type": "execute_result"
    }
   ],
   "source": [
    "def amenity_counter(x):\n",
    "    return x.count(r'Shampoo')\n",
    "\n",
    "df['a_shampoo'] = df.amenities.map(amenity_counter)\n",
    "df.a_shampoo.value_counts()"
   ]
  },
  {
   "cell_type": "code",
   "execution_count": 188,
   "metadata": {},
   "outputs": [
    {
     "data": {
      "text/plain": [
       "0    33879\n",
       "1    11736\n",
       "Name: a_lock_bedroom_door, dtype: int64"
      ]
     },
     "execution_count": 188,
     "metadata": {},
     "output_type": "execute_result"
    }
   ],
   "source": [
    "def amenity_counter(x):\n",
    "    return x.count(r'Lock on bedroom door')\n",
    "\n",
    "df['a_lock_bedroom_door'] = df.amenities.map(amenity_counter)\n",
    "df.a_lock_bedroom_door.value_counts()"
   ]
  },
  {
   "cell_type": "code",
   "execution_count": 189,
   "metadata": {},
   "outputs": [
    {
     "data": {
      "text/plain": [
       "1    39301\n",
       "0     6314\n",
       "Name: a_hangers, dtype: int64"
      ]
     },
     "execution_count": 189,
     "metadata": {},
     "output_type": "execute_result"
    }
   ],
   "source": [
    "def amenity_counter(x):\n",
    "    return x.count(r'Hangers')\n",
    "\n",
    "df['a_hangers'] = df.amenities.map(amenity_counter)\n",
    "df.a_hangers.value_counts()"
   ]
  },
  {
   "cell_type": "code",
   "execution_count": 190,
   "metadata": {},
   "outputs": [
    {
     "data": {
      "text/plain": [
       "1    36251\n",
       "0     9364\n",
       "Name: a_hair_dryer, dtype: int64"
      ]
     },
     "execution_count": 190,
     "metadata": {},
     "output_type": "execute_result"
    }
   ],
   "source": [
    "def amenity_counter(x):\n",
    "    return x.count(r'Hair dryer')\n",
    "\n",
    "df['a_hair_dryer'] = df.amenities.map(amenity_counter)\n",
    "df.a_hair_dryer.value_counts()"
   ]
  },
  {
   "cell_type": "code",
   "execution_count": 191,
   "metadata": {},
   "outputs": [
    {
     "data": {
      "text/plain": [
       "1    37819\n",
       "0     7795\n",
       "2        1\n",
       "Name: a_iron, dtype: int64"
      ]
     },
     "execution_count": 191,
     "metadata": {},
     "output_type": "execute_result"
    }
   ],
   "source": [
    "def amenity_counter(x):\n",
    "    return x.count(r'Iron')\n",
    "\n",
    "df['a_iron'] = df.amenities.map(amenity_counter)\n",
    "df.a_iron.value_counts()"
   ]
  },
  {
   "cell_type": "code",
   "execution_count": 192,
   "metadata": {},
   "outputs": [
    {
     "data": {
      "text/plain": [
       "1    31752\n",
       "0    13863\n",
       "Name: a_laptop_workspace, dtype: int64"
      ]
     },
     "execution_count": 192,
     "metadata": {},
     "output_type": "execute_result"
    }
   ],
   "source": [
    "def amenity_counter(x):\n",
    "    return x.count(r'Laptop friendly workspace')\n",
    "\n",
    "df['a_laptop_workspace'] = df.amenities.map(amenity_counter)\n",
    "df.a_laptop_workspace.value_counts()"
   ]
  },
  {
   "cell_type": "code",
   "execution_count": 193,
   "metadata": {},
   "outputs": [
    {
     "data": {
      "text/plain": [
       "0    45391\n",
       "1      224\n",
       "Name: a_outlet_covers, dtype: int64"
      ]
     },
     "execution_count": 193,
     "metadata": {},
     "output_type": "execute_result"
    }
   ],
   "source": [
    "def amenity_counter(x):\n",
    "    return x.count(r'Outlet covers')\n",
    "\n",
    "df['a_outlet_covers'] = df.amenities.map(amenity_counter)\n",
    "df.a_outlet_covers.value_counts()"
   ]
  },
  {
   "cell_type": "code",
   "execution_count": 194,
   "metadata": {},
   "outputs": [
    {
     "data": {
      "text/plain": [
       "0    41032\n",
       "1     4551\n",
       "2       32\n",
       "Name: a_bath, dtype: int64"
      ]
     },
     "execution_count": 194,
     "metadata": {},
     "output_type": "execute_result"
    }
   ],
   "source": [
    "def amenity_counter(x):\n",
    "    return x.count(r'Bathtub')\n",
    "\n",
    "df['a_bath'] = df.amenities.map(amenity_counter)\n",
    "df.a_bath.value_counts()"
   ]
  },
  {
   "cell_type": "code",
   "execution_count": 195,
   "metadata": {},
   "outputs": [
    {
     "data": {
      "text/plain": [
       "0    43346\n",
       "1     2269\n",
       "Name: a_childrens_toys, dtype: int64"
      ]
     },
     "execution_count": 195,
     "metadata": {},
     "output_type": "execute_result"
    }
   ],
   "source": [
    "def amenity_counter(x):\n",
    "    return x.count(r'Children’s books and toys')\n",
    "\n",
    "df['a_childrens_toys'] = df.amenities.map(amenity_counter)\n",
    "df.a_childrens_toys.value_counts()"
   ]
  },
  {
   "cell_type": "code",
   "execution_count": 196,
   "metadata": {},
   "outputs": [
    {
     "data": {
      "text/plain": [
       "0    44516\n",
       "1     1099\n",
       "Name: a_babysitter_recs, dtype: int64"
      ]
     },
     "execution_count": 196,
     "metadata": {},
     "output_type": "execute_result"
    }
   ],
   "source": [
    "def amenity_counter(x):\n",
    "    return x.count(r'Babysitter recommendations')\n",
    "\n",
    "df['a_babysitter_recs'] = df.amenities.map(amenity_counter)\n",
    "df.a_babysitter_recs.value_counts()"
   ]
  },
  {
   "cell_type": "code",
   "execution_count": 197,
   "metadata": {},
   "outputs": [
    {
     "data": {
      "text/plain": [
       "0    43092\n",
       "1     2523\n",
       "Name: a_crib, dtype: int64"
      ]
     },
     "execution_count": 197,
     "metadata": {},
     "output_type": "execute_result"
    }
   ],
   "source": [
    "def amenity_counter(x):\n",
    "    return x.count(r'Crib')\n",
    "\n",
    "df['a_crib'] = df.amenities.map(amenity_counter)\n",
    "df.a_crib.value_counts()"
   ]
  },
  {
   "cell_type": "code",
   "execution_count": 198,
   "metadata": {},
   "outputs": [
    {
     "data": {
      "text/plain": [
       "0    43033\n",
       "1     2582\n",
       "Name: a_travel_crib, dtype: int64"
      ]
     },
     "execution_count": 198,
     "metadata": {},
     "output_type": "execute_result"
    }
   ],
   "source": [
    "def amenity_counter(x):\n",
    "    return x.count(r'Pack ’n Play/travel crib')\n",
    "\n",
    "df['a_travel_crib'] = df.amenities.map(amenity_counter)\n",
    "df.a_travel_crib.value_counts()"
   ]
  },
  {
   "cell_type": "code",
   "execution_count": 199,
   "metadata": {},
   "outputs": [
    {
     "data": {
      "text/plain": [
       "0    43794\n",
       "1     1821\n",
       "Name: a_room_darkening_shades, dtype: int64"
      ]
     },
     "execution_count": 199,
     "metadata": {},
     "output_type": "execute_result"
    }
   ],
   "source": [
    "def amenity_counter(x):\n",
    "    return x.count(r'Room-darkening shades')\n",
    "\n",
    "df['a_room_darkening_shades'] = df.amenities.map(amenity_counter)\n",
    "df.a_room_darkening_shades.value_counts()"
   ]
  },
  {
   "cell_type": "code",
   "execution_count": 200,
   "metadata": {},
   "outputs": [
    {
     "data": {
      "text/plain": [
       "0    44555\n",
       "1     1060\n",
       "Name: a_childrens_dinnerware, dtype: int64"
      ]
     },
     "execution_count": 200,
     "metadata": {},
     "output_type": "execute_result"
    }
   ],
   "source": [
    "def amenity_counter(x):\n",
    "    return x.count(r'Children’s dinnerware')\n",
    "\n",
    "df['a_childrens_dinnerware'] = df.amenities.map(amenity_counter)\n",
    "df.a_childrens_dinnerware.value_counts()"
   ]
  },
  {
   "cell_type": "code",
   "execution_count": 201,
   "metadata": {},
   "outputs": [
    {
     "data": {
      "text/plain": [
       "1    30026\n",
       "0    15338\n",
       "2      251\n",
       "Name: a_hot_water, dtype: int64"
      ]
     },
     "execution_count": 201,
     "metadata": {},
     "output_type": "execute_result"
    }
   ],
   "source": [
    "def amenity_counter(x):\n",
    "    return x.count(r'Hot water')\n",
    "\n",
    "df['a_hot_water'] = df.amenities.map(amenity_counter)\n",
    "df.a_hot_water.value_counts()"
   ]
  },
  {
   "cell_type": "code",
   "execution_count": 202,
   "metadata": {},
   "outputs": [
    {
     "data": {
      "text/plain": [
       "0    27057\n",
       "1    18558\n",
       "Name: a_bed_linens, dtype: int64"
      ]
     },
     "execution_count": 202,
     "metadata": {},
     "output_type": "execute_result"
    }
   ],
   "source": [
    "def amenity_counter(x):\n",
    "    return x.count(r'Bed linens')\n",
    "\n",
    "df['a_bed_linens'] = df.amenities.map(amenity_counter)\n",
    "df.a_bed_linens.value_counts()"
   ]
  },
  {
   "cell_type": "code",
   "execution_count": 203,
   "metadata": {},
   "outputs": [
    {
     "data": {
      "text/plain": [
       "0    36191\n",
       "1     9424\n",
       "Name: a_extra_pillows, dtype: int64"
      ]
     },
     "execution_count": 203,
     "metadata": {},
     "output_type": "execute_result"
    }
   ],
   "source": [
    "def amenity_counter(x):\n",
    "    return x.count(r'Extra pillows and blankets')\n",
    "\n",
    "df['a_extra_pillows'] = df.amenities.map(amenity_counter)\n",
    "df.a_extra_pillows.value_counts()"
   ]
  },
  {
   "cell_type": "code",
   "execution_count": 204,
   "metadata": {},
   "outputs": [
    {
     "data": {
      "text/plain": [
       "0    43413\n",
       "1     2202\n",
       "Name: a_ethernet, dtype: int64"
      ]
     },
     "execution_count": 204,
     "metadata": {},
     "output_type": "execute_result"
    }
   ],
   "source": [
    "def amenity_counter(x):\n",
    "    return x.count(r'Ethernet connection')\n",
    "\n",
    "df['a_ethernet'] = df.amenities.map(amenity_counter)\n",
    "df.a_ethernet.value_counts()"
   ]
  },
  {
   "cell_type": "code",
   "execution_count": 205,
   "metadata": {},
   "outputs": [
    {
     "data": {
      "text/plain": [
       "0    36272\n",
       "1     9343\n",
       "Name: a_coffee_maker, dtype: int64"
      ]
     },
     "execution_count": 205,
     "metadata": {},
     "output_type": "execute_result"
    }
   ],
   "source": [
    "def amenity_counter(x):\n",
    "    return x.count(r'Coffee maker')\n",
    "\n",
    "df['a_coffee_maker'] = df.amenities.map(amenity_counter)\n",
    "df.a_coffee_maker.value_counts()"
   ]
  },
  {
   "cell_type": "code",
   "execution_count": 206,
   "metadata": {},
   "outputs": [
    {
     "data": {
      "text/plain": [
       "0    26810\n",
       "1    18805\n",
       "Name: a_fridge, dtype: int64"
      ]
     },
     "execution_count": 206,
     "metadata": {},
     "output_type": "execute_result"
    }
   ],
   "source": [
    "def amenity_counter(x):\n",
    "    return x.count(r'Refrigerator')\n",
    "\n",
    "df['a_fridge'] = df.amenities.map(amenity_counter)\n",
    "df.a_fridge.value_counts()"
   ]
  },
  {
   "cell_type": "code",
   "execution_count": 207,
   "metadata": {},
   "outputs": [
    {
     "data": {
      "text/plain": [
       "0    28613\n",
       "1    17002\n",
       "Name: a_dishes_silverware, dtype: int64"
      ]
     },
     "execution_count": 207,
     "metadata": {},
     "output_type": "execute_result"
    }
   ],
   "source": [
    "def amenity_counter(x):\n",
    "    return x.count(r'Dishes and silverware')\n",
    "\n",
    "df['a_dishes_silverware'] = df.amenities.map(amenity_counter)\n",
    "df.a_dishes_silverware.value_counts()"
   ]
  },
  {
   "cell_type": "code",
   "execution_count": 208,
   "metadata": {},
   "outputs": [
    {
     "data": {
      "text/plain": [
       "0    29403\n",
       "1    16212\n",
       "Name: a_cooking_basics, dtype: int64"
      ]
     },
     "execution_count": 208,
     "metadata": {},
     "output_type": "execute_result"
    }
   ],
   "source": [
    "def amenity_counter(x):\n",
    "    return x.count(r'Cooking basics')\n",
    "\n",
    "df['a_cooking_basics'] = df.amenities.map(amenity_counter)\n",
    "df.a_cooking_basics.value_counts()"
   ]
  },
  {
   "cell_type": "code",
   "execution_count": 209,
   "metadata": {},
   "outputs": [
    {
     "data": {
      "text/plain": [
       "0    28333\n",
       "1    17282\n",
       "Name: a_oven, dtype: int64"
      ]
     },
     "execution_count": 209,
     "metadata": {},
     "output_type": "execute_result"
    }
   ],
   "source": [
    "def amenity_counter(x):\n",
    "    return x.count(r'Oven')\n",
    "\n",
    "df['a_oven'] = df.amenities.map(amenity_counter)\n",
    "df.a_oven.value_counts()"
   ]
  },
  {
   "cell_type": "code",
   "execution_count": 210,
   "metadata": {},
   "outputs": [
    {
     "data": {
      "text/plain": [
       "0    30296\n",
       "1    15319\n",
       "Name: a_stove, dtype: int64"
      ]
     },
     "execution_count": 210,
     "metadata": {},
     "output_type": "execute_result"
    }
   ],
   "source": [
    "def amenity_counter(x):\n",
    "    return x.count(r'Stove')\n",
    "\n",
    "df['a_stove'] = df.amenities.map(amenity_counter)\n",
    "df.a_stove.value_counts()"
   ]
  },
  {
   "cell_type": "code",
   "execution_count": 211,
   "metadata": {},
   "outputs": [
    {
     "data": {
      "text/plain": [
       "0    39705\n",
       "1     5910\n",
       "Name: a_patio_balcony, dtype: int64"
      ]
     },
     "execution_count": 211,
     "metadata": {},
     "output_type": "execute_result"
    }
   ],
   "source": [
    "def amenity_counter(x):\n",
    "    return x.count(r'Patio or balcony')\n",
    "\n",
    "df['a_patio_balcony'] = df.amenities.map(amenity_counter)\n",
    "df.a_patio_balcony.value_counts()"
   ]
  },
  {
   "cell_type": "code",
   "execution_count": 212,
   "metadata": {},
   "outputs": [
    {
     "data": {
      "text/plain": [
       "0    35968\n",
       "1     9647\n",
       "Name: a_luggage_dropoff, dtype: int64"
      ]
     },
     "execution_count": 212,
     "metadata": {},
     "output_type": "execute_result"
    }
   ],
   "source": [
    "def amenity_counter(x):\n",
    "    return x.count(r'Luggage dropoff allowed')\n",
    "\n",
    "df['a_luggage_dropoff'] = df.amenities.map(amenity_counter)\n",
    "df.a_luggage_dropoff.value_counts()"
   ]
  },
  {
   "cell_type": "code",
   "execution_count": 213,
   "metadata": {},
   "outputs": [
    {
     "data": {
      "text/plain": [
       "0    31650\n",
       "1    13965\n",
       "Name: a_long_term_stay_allowed, dtype: int64"
      ]
     },
     "execution_count": 213,
     "metadata": {},
     "output_type": "execute_result"
    }
   ],
   "source": [
    "def amenity_counter(x):\n",
    "    return x.count(r'Long term stays allowed')\n",
    "\n",
    "df['a_long_term_stay_allowed'] = df.amenities.map(amenity_counter)\n",
    "df.a_long_term_stay_allowed.value_counts()"
   ]
  },
  {
   "cell_type": "code",
   "execution_count": 214,
   "metadata": {},
   "outputs": [
    {
     "data": {
      "text/plain": [
       "0    41395\n",
       "3     1211\n",
       "2     1026\n",
       "1      998\n",
       "4      985\n",
       "Name: a_step_free_access, dtype: int64"
      ]
     },
     "execution_count": 214,
     "metadata": {},
     "output_type": "execute_result"
    }
   ],
   "source": [
    "def amenity_counter(x):\n",
    "    return x.count(r'Step-free access')\n",
    "\n",
    "df['a_step_free_access'] = df.amenities.map(amenity_counter)\n",
    "df.a_step_free_access.value_counts()"
   ]
  },
  {
   "cell_type": "code",
   "execution_count": 215,
   "metadata": {},
   "outputs": [
    {
     "data": {
      "text/plain": [
       "0    43118\n",
       "1     1089\n",
       "3      725\n",
       "2      683\n",
       "Name: a_wide_doorway, dtype: int64"
      ]
     },
     "execution_count": 215,
     "metadata": {},
     "output_type": "execute_result"
    }
   ],
   "source": [
    "def amenity_counter(x):\n",
    "    return x.count(r'Wide doorway')\n",
    "\n",
    "df['a_wide_doorway'] = df.amenities.map(amenity_counter)\n",
    "df.a_wide_doorway.value_counts()"
   ]
  },
  {
   "cell_type": "code",
   "execution_count": 216,
   "metadata": {},
   "outputs": [
    {
     "data": {
      "text/plain": [
       "0    44167\n",
       "1     1448\n",
       "Name: a_accessible_height_bed, dtype: int64"
      ]
     },
     "execution_count": 216,
     "metadata": {},
     "output_type": "execute_result"
    }
   ],
   "source": [
    "def amenity_counter(x):\n",
    "    return x.count(r'Accessible-height bed')\n",
    "\n",
    "df['a_accessible_height_bed'] = df.amenities.map(amenity_counter)\n",
    "df.a_accessible_height_bed.value_counts()"
   ]
  },
  {
   "cell_type": "code",
   "execution_count": 217,
   "metadata": {},
   "outputs": [
    {
     "data": {
      "text/plain": [
       "0    45533\n",
       "1       82\n",
       "Name: a_bath_w_bath_chair, dtype: int64"
      ]
     },
     "execution_count": 217,
     "metadata": {},
     "output_type": "execute_result"
    }
   ],
   "source": [
    "def amenity_counter(x):\n",
    "    return x.count(r'Bathtub with bath chair')\n",
    "\n",
    "df['a_bath_w_bath_chair'] = df.amenities.map(amenity_counter)\n",
    "df.a_bath_w_bath_chair.value_counts()"
   ]
  },
  {
   "cell_type": "code",
   "execution_count": 218,
   "metadata": {},
   "outputs": [
    {
     "data": {
      "text/plain": [
       "0    44561\n",
       "1     1054\n",
       "Name: a_accessible_height_toilet, dtype: int64"
      ]
     },
     "execution_count": 218,
     "metadata": {},
     "output_type": "execute_result"
    }
   ],
   "source": [
    "def amenity_counter(x):\n",
    "    return x.count(r'Accessible-height toilet')\n",
    "\n",
    "df['a_accessible_height_toilet'] = df.amenities.map(amenity_counter)\n",
    "df.a_accessible_height_toilet.value_counts()"
   ]
  },
  {
   "cell_type": "code",
   "execution_count": 219,
   "metadata": {},
   "outputs": [
    {
     "data": {
      "text/plain": [
       "0    32377\n",
       "1    13238\n",
       "Name: a_host_greets_you, dtype: int64"
      ]
     },
     "execution_count": 219,
     "metadata": {},
     "output_type": "execute_result"
    }
   ],
   "source": [
    "def amenity_counter(x):\n",
    "    return x.count(r'Host greets you')\n",
    "\n",
    "df['a_host_greets_you'] = df.amenities.map(amenity_counter)\n",
    "df.a_host_greets_you.value_counts()"
   ]
  },
  {
   "cell_type": "code",
   "execution_count": 220,
   "metadata": {},
   "outputs": [
    {
     "data": {
      "text/plain": [
       "0    43885\n",
       "1     1730\n",
       "Name: a_handheld_shower_head, dtype: int64"
      ]
     },
     "execution_count": 220,
     "metadata": {},
     "output_type": "execute_result"
    }
   ],
   "source": [
    "def amenity_counter(x):\n",
    "    return x.count(r'Handheld shower head')\n",
    "\n",
    "df['a_handheld_shower_head'] = df.amenities.map(amenity_counter)\n",
    "df.a_handheld_shower_head.value_counts()"
   ]
  },
  {
   "cell_type": "code",
   "execution_count": 221,
   "metadata": {},
   "outputs": [
    {
     "data": {
      "text/plain": [
       "0    43867\n",
       "1     1748\n",
       "Name: a_wide_clearance_to_bed, dtype: int64"
      ]
     },
     "execution_count": 221,
     "metadata": {},
     "output_type": "execute_result"
    }
   ],
   "source": [
    "def amenity_counter(x):\n",
    "    return x.count(r'Wide clearance to bed')\n",
    "\n",
    "df['a_wide_clearance_to_bed'] = df.amenities.map(amenity_counter)\n",
    "df.a_wide_clearance_to_bed.value_counts()"
   ]
  },
  {
   "cell_type": "code",
   "execution_count": 222,
   "metadata": {},
   "outputs": [
    {
     "data": {
      "text/plain": [
       "0    45357\n",
       "1      258\n",
       "Name: a_roll_in_shower, dtype: int64"
      ]
     },
     "execution_count": 222,
     "metadata": {},
     "output_type": "execute_result"
    }
   ],
   "source": [
    "def amenity_counter(x):\n",
    "    return x.count(r'Roll-in shower')\n",
    "\n",
    "df['a_roll_in_shower'] = df.amenities.map(amenity_counter)\n",
    "df.a_roll_in_shower.value_counts()"
   ]
  },
  {
   "cell_type": "code",
   "execution_count": 223,
   "metadata": {},
   "outputs": [
    {
     "data": {
      "text/plain": [
       "0    42743\n",
       "1     2872\n",
       "Name: a_high_chair, dtype: int64"
      ]
     },
     "execution_count": 223,
     "metadata": {},
     "output_type": "execute_result"
    }
   ],
   "source": [
    "def amenity_counter(x):\n",
    "    return x.count(r'High chair')\n",
    "\n",
    "df['a_high_chair'] = df.amenities.map(amenity_counter)\n",
    "df.a_high_chair.value_counts()"
   ]
  },
  {
   "cell_type": "code",
   "execution_count": 224,
   "metadata": {},
   "outputs": [
    {
     "data": {
      "text/plain": [
       "0    42208\n",
       "1     3407\n",
       "Name: a_well_lit_entrance, dtype: int64"
      ]
     },
     "execution_count": 224,
     "metadata": {},
     "output_type": "execute_result"
    }
   ],
   "source": [
    "def amenity_counter(x):\n",
    "    return x.count(r'Well-lit path to entrance')\n",
    "\n",
    "df['a_well_lit_entrance'] = df.amenities.map(amenity_counter)\n",
    "df.a_well_lit_entrance.value_counts()"
   ]
  },
  {
   "cell_type": "code",
   "execution_count": 225,
   "metadata": {},
   "outputs": [
    {
     "data": {
      "text/plain": [
       "0    43410\n",
       "1     2205\n",
       "Name: a_flat_path_front_door, dtype: int64"
      ]
     },
     "execution_count": 225,
     "metadata": {},
     "output_type": "execute_result"
    }
   ],
   "source": [
    "def amenity_counter(x):\n",
    "    return x.count(r'Flat path to front door')\n",
    "\n",
    "df['a_flat_path_front_door'] = df.amenities.map(amenity_counter)\n",
    "df.a_flat_path_front_door.value_counts()"
   ]
  },
  {
   "cell_type": "code",
   "execution_count": 226,
   "metadata": {},
   "outputs": [
    {
     "data": {
      "text/plain": [
       "0    45053\n",
       "1      562\n",
       "Name: a_smart_lock, dtype: int64"
      ]
     },
     "execution_count": 226,
     "metadata": {},
     "output_type": "execute_result"
    }
   ],
   "source": [
    "def amenity_counter(x):\n",
    "    return x.count(r'Smart lock')\n",
    "\n",
    "df['a_smart_lock'] = df.amenities.map(amenity_counter)\n",
    "df.a_smart_lock.value_counts()"
   ]
  },
  {
   "cell_type": "code",
   "execution_count": 227,
   "metadata": {},
   "outputs": [
    {
     "data": {
      "text/plain": [
       "0    44795\n",
       "1      820\n",
       "Name: a_full_kitchen, dtype: int64"
      ]
     },
     "execution_count": 227,
     "metadata": {},
     "output_type": "execute_result"
    }
   ],
   "source": [
    "def amenity_counter(x):\n",
    "    return x.count(r'Full kitchen')\n",
    "\n",
    "df['a_full_kitchen'] = df.amenities.map(amenity_counter)\n",
    "df.a_full_kitchen.value_counts()"
   ]
  },
  {
   "cell_type": "code",
   "execution_count": 228,
   "metadata": {},
   "outputs": [
    {
     "data": {
      "text/plain": [
       "0    45305\n",
       "1      310\n",
       "Name: a_kettle, dtype: int64"
      ]
     },
     "execution_count": 228,
     "metadata": {},
     "output_type": "execute_result"
    }
   ],
   "source": [
    "def amenity_counter(x):\n",
    "    return x.count(r'Hot water kettle')\n",
    "\n",
    "df['a_kettle'] = df.amenities.map(amenity_counter)\n",
    "df.a_kettle.value_counts()"
   ]
  },
  {
   "cell_type": "code",
   "execution_count": 229,
   "metadata": {},
   "outputs": [
    {
     "data": {
      "text/plain": [
       "0    44257\n",
       "1     1358\n",
       "Name: a_wide_entryway, dtype: int64"
      ]
     },
     "execution_count": 229,
     "metadata": {},
     "output_type": "execute_result"
    }
   ],
   "source": [
    "def amenity_counter(x):\n",
    "    return x.count(r'Wide entryway')\n",
    "\n",
    "df['a_wide_entryway'] = df.amenities.map(amenity_counter)\n",
    "df.a_wide_entryway.value_counts()"
   ]
  },
  {
   "cell_type": "code",
   "execution_count": 230,
   "metadata": {},
   "outputs": [
    {
     "data": {
      "text/plain": [
       "0    44009\n",
       "1     1606\n",
       "Name: a_hot_tub, dtype: int64"
      ]
     },
     "execution_count": 230,
     "metadata": {},
     "output_type": "execute_result"
    }
   ],
   "source": [
    "def amenity_counter(x):\n",
    "    return x.count(r'Hot tub')\n",
    "\n",
    "df['a_hot_tub'] = df.amenities.map(amenity_counter)\n",
    "df.a_hot_tub.value_counts()"
   ]
  },
  {
   "cell_type": "code",
   "execution_count": 231,
   "metadata": {},
   "outputs": [
    {
     "data": {
      "text/plain": [
       "0    42443\n",
       "1     3172\n",
       "Name: a_single_level_home, dtype: int64"
      ]
     },
     "execution_count": 231,
     "metadata": {},
     "output_type": "execute_result"
    }
   ],
   "source": [
    "def amenity_counter(x):\n",
    "    return x.count(r'Single level home')\n",
    "\n",
    "df['a_single_level_home'] = df.amenities.map(amenity_counter)\n",
    "df.a_single_level_home.value_counts()"
   ]
  },
  {
   "cell_type": "code",
   "execution_count": 232,
   "metadata": {},
   "outputs": [
    {
     "data": {
      "text/plain": [
       "0    44859\n",
       "1      756\n",
       "Name: a_events, dtype: int64"
      ]
     },
     "execution_count": 232,
     "metadata": {},
     "output_type": "execute_result"
    }
   ],
   "source": [
    "def amenity_counter(x):\n",
    "    return x.count(r'Suitable for events')\n",
    "\n",
    "df['a_events'] = df.amenities.map(amenity_counter)\n",
    "df.a_events.value_counts()"
   ]
  },
  {
   "cell_type": "code",
   "execution_count": 233,
   "metadata": {},
   "outputs": [
    {
     "data": {
      "text/plain": [
       "0    40417\n",
       "1     5198\n",
       "Name: a_free_street_parking, dtype: int64"
      ]
     },
     "execution_count": 233,
     "metadata": {},
     "output_type": "execute_result"
    }
   ],
   "source": [
    "def amenity_counter(x):\n",
    "    return x.count(r'Free street parking')\n",
    "\n",
    "df['a_free_street_parking'] = df.amenities.map(amenity_counter)\n",
    "df.a_free_street_parking.value_counts()"
   ]
  },
  {
   "cell_type": "code",
   "execution_count": 234,
   "metadata": {},
   "outputs": [
    {
     "data": {
      "text/plain": [
       "0    30296\n",
       "1    15319\n",
       "Name: a_stove, dtype: int64"
      ]
     },
     "execution_count": 234,
     "metadata": {},
     "output_type": "execute_result"
    }
   ],
   "source": [
    "def amenity_counter(x):\n",
    "    return x.count(r'Toilet paper')\n",
    "\n",
    "df['a_toilet_paper'] = df.amenities.map(amenity_counter)\n",
    "df.a_stove.value_counts()"
   ]
  },
  {
   "cell_type": "code",
   "execution_count": 235,
   "metadata": {},
   "outputs": [
    {
     "data": {
      "text/plain": [
       "0    30296\n",
       "1    15319\n",
       "Name: a_stove, dtype: int64"
      ]
     },
     "execution_count": 235,
     "metadata": {},
     "output_type": "execute_result"
    }
   ],
   "source": [
    "def amenity_counter(x):\n",
    "    return x.count(r'Bathroom essentials')\n",
    "\n",
    "df['a_bathroom_essentials'] = df.amenities.map(amenity_counter)\n",
    "df.a_stove.value_counts()"
   ]
  },
  {
   "cell_type": "code",
   "execution_count": 236,
   "metadata": {},
   "outputs": [
    {
     "data": {
      "text/plain": [
       "0    45132\n",
       "1      483\n",
       "Name: a_bedroom_comforts, dtype: int64"
      ]
     },
     "execution_count": 236,
     "metadata": {},
     "output_type": "execute_result"
    }
   ],
   "source": [
    "def amenity_counter(x):\n",
    "    return x.count(r'Bedroom comforts')\n",
    "\n",
    "df['a_bedroom_comforts'] = df.amenities.map(amenity_counter)\n",
    "df.a_bedroom_comforts.value_counts()"
   ]
  },
  {
   "cell_type": "code",
   "execution_count": 237,
   "metadata": {},
   "outputs": [
    {
     "data": {
      "text/plain": [
       "0    30296\n",
       "1    15319\n",
       "Name: a_stove, dtype: int64"
      ]
     },
     "execution_count": 237,
     "metadata": {},
     "output_type": "execute_result"
    }
   ],
   "source": [
    "def amenity_counter(x):\n",
    "    return x.count(r'Wheelchair accessible')\n",
    "\n",
    "df['a_wheelchair_access'] = df.amenities.map(amenity_counter)\n",
    "df.a_stove.value_counts()"
   ]
  },
  {
   "cell_type": "code",
   "execution_count": 238,
   "metadata": {},
   "outputs": [
    {
     "data": {
      "text/plain": [
       "0    45341\n",
       "1      274\n",
       "Name: a_pool, dtype: int64"
      ]
     },
     "execution_count": 238,
     "metadata": {},
     "output_type": "execute_result"
    }
   ],
   "source": [
    "def amenity_counter(x):\n",
    "    return x.count(r'Pool')\n",
    "\n",
    "df['a_pool'] = df.amenities.map(amenity_counter)\n",
    "df.a_pool.value_counts()"
   ]
  },
  {
   "cell_type": "code",
   "execution_count": 239,
   "metadata": {},
   "outputs": [
    {
     "data": {
      "text/plain": [
       "0    44843\n",
       "1      772\n",
       "Name: a_doorman, dtype: int64"
      ]
     },
     "execution_count": 239,
     "metadata": {},
     "output_type": "execute_result"
    }
   ],
   "source": [
    "def amenity_counter(x):\n",
    "    return x.count(r'Doorman')\n",
    "\n",
    "df['a_doorman'] = df.amenities.map(amenity_counter)\n",
    "df.a_doorman.value_counts()"
   ]
  },
  {
   "cell_type": "code",
   "execution_count": 240,
   "metadata": {},
   "outputs": [
    {
     "data": {
      "text/plain": [
       "0    45136\n",
       "1      479\n",
       "Name: a_bath_towel, dtype: int64"
      ]
     },
     "execution_count": 240,
     "metadata": {},
     "output_type": "execute_result"
    }
   ],
   "source": [
    "def amenity_counter(x):\n",
    "    return x.count(r'Bath towel')\n",
    "\n",
    "df['a_bath_towel'] = df.amenities.map(amenity_counter)\n",
    "df.a_bath_towel.value_counts()"
   ]
  },
  {
   "cell_type": "code",
   "execution_count": 241,
   "metadata": {},
   "outputs": [
    {
     "data": {
      "text/plain": [
       "0    40058\n",
       "1     5557\n",
       "Name: a_garden, dtype: int64"
      ]
     },
     "execution_count": 241,
     "metadata": {},
     "output_type": "execute_result"
    }
   ],
   "source": [
    "def amenity_counter(x):\n",
    "    return x.count(r'Garden or backyard')\n",
    "\n",
    "df['a_garden'] = df.amenities.map(amenity_counter)\n",
    "df.a_garden.value_counts()"
   ]
  },
  {
   "cell_type": "code",
   "execution_count": 242,
   "metadata": {},
   "outputs": [
    {
     "data": {
      "text/plain": [
       "0    29827\n",
       "1    15788\n",
       "Name: a_first_aid, dtype: int64"
      ]
     },
     "execution_count": 242,
     "metadata": {},
     "output_type": "execute_result"
    }
   ],
   "source": [
    "def amenity_counter(x):\n",
    "    return x.count(r'First aid kit')\n",
    "\n",
    "df['a_first_aid'] = df.amenities.map(amenity_counter)\n",
    "df.a_first_aid.value_counts()"
   ]
  },
  {
   "cell_type": "code",
   "execution_count": 243,
   "metadata": {},
   "outputs": [
    {
     "data": {
      "text/plain": [
       "0    39971\n",
       "1     5644\n",
       "Name: a_safety_card, dtype: int64"
      ]
     },
     "execution_count": 243,
     "metadata": {},
     "output_type": "execute_result"
    }
   ],
   "source": [
    "def amenity_counter(x):\n",
    "    return x.count(r'Safety card')\n",
    "\n",
    "df['a_safety_card'] = df.amenities.map(amenity_counter)\n",
    "df.a_safety_card.value_counts()"
   ]
  },
  {
   "cell_type": "code",
   "execution_count": 244,
   "metadata": {},
   "outputs": [
    {
     "data": {
      "text/plain": [
       "0    29670\n",
       "1    15945\n",
       "Name: a_microwave, dtype: int64"
      ]
     },
     "execution_count": 244,
     "metadata": {},
     "output_type": "execute_result"
    }
   ],
   "source": [
    "def amenity_counter(x):\n",
    "    return x.count(r'Microwave')\n",
    "\n",
    "df['a_microwave'] = df.amenities.map(amenity_counter)\n",
    "df.a_microwave.value_counts()"
   ]
  },
  {
   "cell_type": "code",
   "execution_count": 245,
   "metadata": {},
   "outputs": [
    {
     "data": {
      "text/plain": [
       "0    32927\n",
       "1    12688\n",
       "Name: a_internet, dtype: int64"
      ]
     },
     "execution_count": 245,
     "metadata": {},
     "output_type": "execute_result"
    }
   ],
   "source": [
    "def amenity_counter(x):\n",
    "    return x.count(r'Internet')\n",
    "\n",
    "df['a_internet'] = df.amenities.map(amenity_counter)\n",
    "df.a_internet.value_counts()"
   ]
  },
  {
   "cell_type": "code",
   "execution_count": 246,
   "metadata": {},
   "outputs": [
    {
     "data": {
      "text/plain": [
       "0    44127\n",
       "1     1488\n",
       "Name: a_bbq, dtype: int64"
      ]
     },
     "execution_count": 246,
     "metadata": {},
     "output_type": "execute_result"
    }
   ],
   "source": [
    "def amenity_counter(x):\n",
    "    return x.count(r'BBQ grill')\n",
    "\n",
    "df['a_bbq'] = df.amenities.map(amenity_counter)\n",
    "df.a_bbq.value_counts()"
   ]
  },
  {
   "cell_type": "code",
   "execution_count": 247,
   "metadata": {},
   "outputs": [
    {
     "data": {
      "text/plain": [
       "0    40492\n",
       "1     5123\n",
       "Name: a_private_living_room, dtype: int64"
      ]
     },
     "execution_count": 247,
     "metadata": {},
     "output_type": "execute_result"
    }
   ],
   "source": [
    "def amenity_counter(x):\n",
    "    return x.count(r'Private living room')\n",
    "\n",
    "df['a_private_living_room'] = df.amenities.map(amenity_counter)\n",
    "df.a_private_living_room.value_counts()"
   ]
  },
  {
   "cell_type": "code",
   "execution_count": 248,
   "metadata": {},
   "outputs": [
    {
     "data": {
      "text/plain": [
       "0    34831\n",
       "1    10784\n",
       "Name: a_private_entrance, dtype: int64"
      ]
     },
     "execution_count": 248,
     "metadata": {},
     "output_type": "execute_result"
    }
   ],
   "source": [
    "def amenity_counter(x):\n",
    "    return x.count(r'Private entrance')\n",
    "\n",
    "df['a_private_entrance'] = df.amenities.map(amenity_counter)\n",
    "df.a_private_entrance.value_counts()"
   ]
  },
  {
   "cell_type": "code",
   "execution_count": 249,
   "metadata": {},
   "outputs": [
    {
     "data": {
      "text/plain": [
       "0    45136\n",
       "1      479\n",
       "Name: a_body_soap, dtype: int64"
      ]
     },
     "execution_count": 249,
     "metadata": {},
     "output_type": "execute_result"
    }
   ],
   "source": [
    "def amenity_counter(x):\n",
    "    return x.count(r'Body soap')\n",
    "\n",
    "df['a_body_soap'] = df.amenities.map(amenity_counter)\n",
    "df.a_body_soap.value_counts()"
   ]
  },
  {
   "cell_type": "code",
   "execution_count": 250,
   "metadata": {},
   "outputs": [
    {
     "data": {
      "text/plain": [
       "0    39213\n",
       "1     6371\n",
       "2       31\n",
       "Name: a_breakfast, dtype: int64"
      ]
     },
     "execution_count": 250,
     "metadata": {},
     "output_type": "execute_result"
    }
   ],
   "source": [
    "def amenity_counter(x):\n",
    "    return x.count(r'Breakfast')\n",
    "\n",
    "df['a_breakfast'] = df.amenities.map(amenity_counter)\n",
    "df.a_breakfast.value_counts()"
   ]
  },
  {
   "cell_type": "code",
   "execution_count": 251,
   "metadata": {},
   "outputs": [
    {
     "data": {
      "text/plain": [
       "0    45042\n",
       "1      573\n",
       "Name: a_game_console, dtype: int64"
      ]
     },
     "execution_count": 251,
     "metadata": {},
     "output_type": "execute_result"
    }
   ],
   "source": [
    "def amenity_counter(x):\n",
    "    return x.count(r'Game console')\n",
    "\n",
    "df['a_game_console'] = df.amenities.map(amenity_counter)\n",
    "df.a_game_console.value_counts()"
   ]
  },
  {
   "cell_type": "code",
   "execution_count": 252,
   "metadata": {},
   "outputs": [
    {
     "data": {
      "text/plain": [
       "0    43157\n",
       "1     2458\n",
       "Name: a_air_con, dtype: int64"
      ]
     },
     "execution_count": 252,
     "metadata": {},
     "output_type": "execute_result"
    }
   ],
   "source": [
    "def amenity_counter(x):\n",
    "    return x.count(r'Air conditioning')\n",
    "\n",
    "df['a_air_con'] = df.amenities.map(amenity_counter)\n",
    "df.a_air_con.value_counts()"
   ]
  },
  {
   "cell_type": "code",
   "execution_count": 253,
   "metadata": {},
   "outputs": [
    {
     "data": {
      "text/plain": [
       "0    41508\n",
       "1     4107\n",
       "Name: a_24_hour_checkin, dtype: int64"
      ]
     },
     "execution_count": 253,
     "metadata": {},
     "output_type": "execute_result"
    }
   ],
   "source": [
    "def amenity_counter(x):\n",
    "    return x.count(r'24-hour check-in')\n",
    "\n",
    "df['a_24_hour_checkin'] = df.amenities.map(amenity_counter)\n",
    "df.a_24_hour_checkin.value_counts()"
   ]
  },
  {
   "cell_type": "code",
   "execution_count": 254,
   "metadata": {},
   "outputs": [
    {
     "data": {
      "text/plain": [
       "0    35246\n",
       "1    10369\n",
       "Name: a_self_checkin, dtype: int64"
      ]
     },
     "execution_count": 254,
     "metadata": {},
     "output_type": "execute_result"
    }
   ],
   "source": [
    "def amenity_counter(x):\n",
    "    return x.count(r'Self check-in')\n",
    "\n",
    "df['a_self_checkin'] = df.amenities.map(amenity_counter)\n",
    "df.a_self_checkin.value_counts()"
   ]
  },
  {
   "cell_type": "code",
   "execution_count": 255,
   "metadata": {},
   "outputs": [
    {
     "data": {
      "text/plain": [
       "0    34743\n",
       "1    10872\n",
       "Name: a_elevator, dtype: int64"
      ]
     },
     "execution_count": 255,
     "metadata": {},
     "output_type": "execute_result"
    }
   ],
   "source": [
    "def amenity_counter(x):\n",
    "    return x.count(r'Elevator')\n",
    "\n",
    "df['a_elevator'] = df.amenities.map(amenity_counter)\n",
    "df.a_elevator.value_counts()"
   ]
  },
  {
   "cell_type": "code",
   "execution_count": 256,
   "metadata": {},
   "outputs": [
    {
     "data": {
      "text/plain": [
       "0    41882\n",
       "1     3733\n",
       "Name: a_fireplace, dtype: int64"
      ]
     },
     "execution_count": 256,
     "metadata": {},
     "output_type": "execute_result"
    }
   ],
   "source": [
    "def amenity_counter(x):\n",
    "    return x.count(r'Indoor fireplace')\n",
    "\n",
    "df['a_fireplace'] = df.amenities.map(amenity_counter)\n",
    "df.a_fireplace.value_counts()"
   ]
  },
  {
   "cell_type": "code",
   "execution_count": 257,
   "metadata": {},
   "outputs": [
    {
     "data": {
      "text/plain": [
       "0    34847\n",
       "1    10768\n",
       "Name: a_dishwasher, dtype: int64"
      ]
     },
     "execution_count": 257,
     "metadata": {},
     "output_type": "execute_result"
    }
   ],
   "source": [
    "def amenity_counter(x):\n",
    "    return x.count(r'Dishwasher')\n",
    "\n",
    "df['a_dishwasher'] = df.amenities.map(amenity_counter)\n",
    "df.a_dishwasher.value_counts()"
   ]
  },
  {
   "cell_type": "code",
   "execution_count": 268,
   "metadata": {},
   "outputs": [
    {
     "data": {
      "text/plain": [
       "0    44542\n",
       "1     1073\n",
       "Name: a_cats, dtype: int64"
      ]
     },
     "execution_count": 268,
     "metadata": {},
     "output_type": "execute_result"
    }
   ],
   "source": [
    "def amenity_counter(x):\n",
    "    return x.count(r'Cat(s)')\n",
    "\n",
    "df['a_cats'] = df.amenities.map(amenity_counter)\n",
    "df.a_cats.value_counts()"
   ]
  },
  {
   "cell_type": "code",
   "execution_count": 259,
   "metadata": {},
   "outputs": [
    {
     "data": {
      "text/plain": [
       "0    42055\n",
       "1     3560\n",
       "Name: a_pets_allowed, dtype: int64"
      ]
     },
     "execution_count": 259,
     "metadata": {},
     "output_type": "execute_result"
    }
   ],
   "source": [
    "def amenity_counter(x):\n",
    "    return x.count(r'Pets allowed')\n",
    "\n",
    "df['a_pets_allowed'] = df.amenities.map(amenity_counter)\n",
    "df.a_pets_allowed.value_counts()"
   ]
  },
  {
   "cell_type": "code",
   "execution_count": 260,
   "metadata": {},
   "outputs": [
    {
     "data": {
      "text/plain": [
       "0    38360\n",
       "1     7255\n",
       "Name: a_lockbox, dtype: int64"
      ]
     },
     "execution_count": 260,
     "metadata": {},
     "output_type": "execute_result"
    }
   ],
   "source": [
    "def amenity_counter(x):\n",
    "    return x.count(r'Lockbox')\n",
    "\n",
    "df['a_lockbox'] = df.amenities.map(amenity_counter)\n",
    "df.a_lockbox.value_counts()"
   ]
  },
  {
   "cell_type": "code",
   "execution_count": 261,
   "metadata": {},
   "outputs": [
    {
     "data": {
      "text/plain": [
       "0    44172\n",
       "1     1443\n",
       "Name: a_building_staff, dtype: int64"
      ]
     },
     "execution_count": 261,
     "metadata": {},
     "output_type": "execute_result"
    }
   ],
   "source": [
    "def amenity_counter(x):\n",
    "    return x.count(r'Building staff')\n",
    "\n",
    "df['a_building_staff'] = df.amenities.map(amenity_counter)\n",
    "df.a_building_staff.value_counts()"
   ]
  },
  {
   "cell_type": "code",
   "execution_count": 262,
   "metadata": {},
   "outputs": [
    {
     "data": {
      "text/plain": [
       "0    41882\n",
       "1     3733\n",
       "Name: a_fireplace, dtype: int64"
      ]
     },
     "execution_count": 262,
     "metadata": {},
     "output_type": "execute_result"
    }
   ],
   "source": [
    "def amenity_counter(x):\n",
    "    return x.count(r'Pets live on this property')\n",
    "\n",
    "df['a_pets_on_property'] = df.amenities.map(amenity_counter)\n",
    "df.a_fireplace.value_counts()"
   ]
  },
  {
   "cell_type": "code",
   "execution_count": 271,
   "metadata": {},
   "outputs": [],
   "source": [
    "# Some amenities were included more than once per listing => Change anything >1 to 1:\n",
    "\n",
    "def to_one(x):\n",
    "    if x >= 1:\n",
    "        return 1\n",
    "    else:\n",
    "        return 0"
   ]
  },
  {
   "cell_type": "code",
   "execution_count": 272,
   "metadata": {},
   "outputs": [
    {
     "name": "stdout",
     "output_type": "stream",
     "text": [
      "['a_wifi', 'a_TV', 'a_cable_tv', 'a_kitchen', 'a_paid_parking_off_premises', 'a_smoking_allowed', 'a_free_street_parking', 'a_buzzer_intercom', 'a_heating', 'a_family_friendly', 'a_washer', 'a_dryer', 'a_smoke_detector', 'a_carbon_monoxide_detector', 'a_fire_extinguisher', 'a_essentials', 'a_shampoo', 'a_lock_bedroom_door', 'a_hangers', 'a_hair_dryer', 'a_iron', 'a_laptop_workspace', 'a_outlet_covers', 'a_bath', 'a_childrens_toys', 'a_babysitter_recs', 'a_crib', 'a_travel_crib', 'a_room_darkening_shades', 'a_childrens_dinnerware', 'a_hot_water', 'a_bed_linens', 'a_extra_pillows', 'a_ethernet', 'a_coffee_maker', 'a_fridge', 'a_dishes_silverware', 'a_cooking_basics', 'a_oven', 'a_stove', 'a_patio_balcony', 'a_luggage_dropoff', 'a_long_term_stay_allowed', 'a_step_free_access', 'a_wide_doorway', 'a_accessible_height_bed', 'a_bath_w_bath_chair', 'a_accessible_height_toilet', 'a_host_greets_you', 'a_handheld_shower_head', 'a_wide_clearance_to_bed', 'a_roll_in_shower', 'a_high_chair', 'a_well_lit_entrance', 'a_flat_path_front_door', 'a_smart_lock', 'a_full_kitchen', 'a_kettle', 'a_wide_entryway', 'a_hot_tub', 'a_single_level_home', 'a_events', 'a_toilet_paper', 'a_bathroom_essentials', 'a_bedroom_comforts', 'a_wheelchair_access', 'a_pool', 'a_doorman', 'a_bath_towel', 'a_garden', 'a_first_aid', 'a_safety_card', 'a_microwave', 'a_internet', 'a_bbq', 'a_private_living_room', 'a_private_entrance', 'a_body_soap', 'a_breakfast', 'a_game_console', 'a_air_con', 'a_24_hour_checkin', 'a_self_checkin', 'a_elevator', 'a_fireplace', 'a_dishwasher', 'a_cats', 'a_pets_allowed', 'a_lockbox', 'a_building_staff', 'a_pets_on_property']\n"
     ]
    }
   ],
   "source": [
    "amen_cols = [col for col in df.columns if col.startswith('a_')]\n",
    "print(amen_cols)\n"
   ]
  },
  {
   "cell_type": "code",
   "execution_count": 275,
   "metadata": {},
   "outputs": [],
   "source": [
    "for a in amen_cols:\n",
    "    df[a] = df[a].map(to_one)"
   ]
  },
  {
   "cell_type": "code",
   "execution_count": 278,
   "metadata": {},
   "outputs": [
    {
     "data": {
      "text/html": [
       "<div>\n",
       "<style scoped>\n",
       "    .dataframe tbody tr th:only-of-type {\n",
       "        vertical-align: middle;\n",
       "    }\n",
       "\n",
       "    .dataframe tbody tr th {\n",
       "        vertical-align: top;\n",
       "    }\n",
       "\n",
       "    .dataframe thead th {\n",
       "        text-align: right;\n",
       "    }\n",
       "</style>\n",
       "<table border=\"1\" class=\"dataframe\">\n",
       "  <thead>\n",
       "    <tr style=\"text-align: right;\">\n",
       "      <th></th>\n",
       "      <th>Unnamed: 0</th>\n",
       "      <th>id</th>\n",
       "      <th>host_id</th>\n",
       "      <th>host_name</th>\n",
       "      <th>host_response_time</th>\n",
       "      <th>host_response_rate</th>\n",
       "      <th>host_is_superhost</th>\n",
       "      <th>host_listings_count</th>\n",
       "      <th>host_verifications</th>\n",
       "      <th>host_has_profile_pic</th>\n",
       "      <th>...</th>\n",
       "      <th>a_24_hour_checkin</th>\n",
       "      <th>a_self_checkin</th>\n",
       "      <th>a_elevator</th>\n",
       "      <th>a_fireplace</th>\n",
       "      <th>a_dishwasher</th>\n",
       "      <th>a_cats</th>\n",
       "      <th>a_pets_allowed</th>\n",
       "      <th>a_lockbox</th>\n",
       "      <th>a_building_staff</th>\n",
       "      <th>a_pets_on_property</th>\n",
       "    </tr>\n",
       "  </thead>\n",
       "  <tbody>\n",
       "    <tr>\n",
       "      <th>0</th>\n",
       "      <td>0</td>\n",
       "      <td>13913</td>\n",
       "      <td>54730</td>\n",
       "      <td>Alina</td>\n",
       "      <td>within a day</td>\n",
       "      <td>60.0</td>\n",
       "      <td>0</td>\n",
       "      <td>4.0</td>\n",
       "      <td>['email', 'phone', 'facebook', 'reviews']</td>\n",
       "      <td>1</td>\n",
       "      <td>...</td>\n",
       "      <td>0</td>\n",
       "      <td>0</td>\n",
       "      <td>0</td>\n",
       "      <td>0</td>\n",
       "      <td>0</td>\n",
       "      <td>0</td>\n",
       "      <td>0</td>\n",
       "      <td>0</td>\n",
       "      <td>0</td>\n",
       "      <td>0</td>\n",
       "    </tr>\n",
       "    <tr>\n",
       "      <th>1</th>\n",
       "      <td>1</td>\n",
       "      <td>15400</td>\n",
       "      <td>60302</td>\n",
       "      <td>Philippa</td>\n",
       "      <td>within a few hours</td>\n",
       "      <td>100.0</td>\n",
       "      <td>0</td>\n",
       "      <td>1.0</td>\n",
       "      <td>['email', 'phone', 'reviews', 'jumio', 'govern...</td>\n",
       "      <td>1</td>\n",
       "      <td>...</td>\n",
       "      <td>1</td>\n",
       "      <td>0</td>\n",
       "      <td>0</td>\n",
       "      <td>0</td>\n",
       "      <td>0</td>\n",
       "      <td>0</td>\n",
       "      <td>0</td>\n",
       "      <td>0</td>\n",
       "      <td>0</td>\n",
       "      <td>0</td>\n",
       "    </tr>\n",
       "  </tbody>\n",
       "</table>\n",
       "<p>2 rows × 149 columns</p>\n",
       "</div>"
      ],
      "text/plain": [
       "   Unnamed: 0     id  host_id host_name  host_response_time  \\\n",
       "0           0  13913    54730     Alina        within a day   \n",
       "1           1  15400    60302  Philippa  within a few hours   \n",
       "\n",
       "   host_response_rate  host_is_superhost  host_listings_count  \\\n",
       "0                60.0                  0                  4.0   \n",
       "1               100.0                  0                  1.0   \n",
       "\n",
       "                                  host_verifications  host_has_profile_pic  \\\n",
       "0          ['email', 'phone', 'facebook', 'reviews']                     1   \n",
       "1  ['email', 'phone', 'reviews', 'jumio', 'govern...                     1   \n",
       "\n",
       "          ...          a_24_hour_checkin a_self_checkin  a_elevator  \\\n",
       "0         ...                          0              0           0   \n",
       "1         ...                          1              0           0   \n",
       "\n",
       "   a_fireplace a_dishwasher a_cats  a_pets_allowed  a_lockbox  \\\n",
       "0            0            0      0               0          0   \n",
       "1            0            0      0               0          0   \n",
       "\n",
       "   a_building_staff  a_pets_on_property  \n",
       "0                 0                   0  \n",
       "1                 0                   0  \n",
       "\n",
       "[2 rows x 149 columns]"
      ]
     },
     "execution_count": 278,
     "metadata": {},
     "output_type": "execute_result"
    }
   ],
   "source": [
    "df.head(2)"
   ]
  },
  {
   "cell_type": "code",
   "execution_count": 283,
   "metadata": {},
   "outputs": [],
   "source": [
    "amen_cols.append('id')"
   ]
  },
  {
   "cell_type": "code",
   "execution_count": 288,
   "metadata": {},
   "outputs": [
    {
     "data": {
      "text/html": [
       "<div>\n",
       "<style scoped>\n",
       "    .dataframe tbody tr th:only-of-type {\n",
       "        vertical-align: middle;\n",
       "    }\n",
       "\n",
       "    .dataframe tbody tr th {\n",
       "        vertical-align: top;\n",
       "    }\n",
       "\n",
       "    .dataframe thead th {\n",
       "        text-align: right;\n",
       "    }\n",
       "</style>\n",
       "<table border=\"1\" class=\"dataframe\">\n",
       "  <thead>\n",
       "    <tr style=\"text-align: right;\">\n",
       "      <th></th>\n",
       "      <th>a_wifi</th>\n",
       "      <th>a_TV</th>\n",
       "      <th>a_cable_tv</th>\n",
       "      <th>a_kitchen</th>\n",
       "      <th>a_paid_parking_off_premises</th>\n",
       "      <th>a_smoking_allowed</th>\n",
       "      <th>a_free_street_parking</th>\n",
       "      <th>a_buzzer_intercom</th>\n",
       "      <th>a_heating</th>\n",
       "      <th>a_family_friendly</th>\n",
       "      <th>...</th>\n",
       "      <th>a_self_checkin</th>\n",
       "      <th>a_elevator</th>\n",
       "      <th>a_fireplace</th>\n",
       "      <th>a_dishwasher</th>\n",
       "      <th>a_cats</th>\n",
       "      <th>a_pets_allowed</th>\n",
       "      <th>a_lockbox</th>\n",
       "      <th>a_building_staff</th>\n",
       "      <th>a_pets_on_property</th>\n",
       "      <th>id</th>\n",
       "    </tr>\n",
       "  </thead>\n",
       "  <tbody>\n",
       "    <tr>\n",
       "      <th>0</th>\n",
       "      <td>1</td>\n",
       "      <td>1</td>\n",
       "      <td>1</td>\n",
       "      <td>1</td>\n",
       "      <td>1</td>\n",
       "      <td>1</td>\n",
       "      <td>1</td>\n",
       "      <td>1</td>\n",
       "      <td>1</td>\n",
       "      <td>1</td>\n",
       "      <td>...</td>\n",
       "      <td>0</td>\n",
       "      <td>0</td>\n",
       "      <td>0</td>\n",
       "      <td>0</td>\n",
       "      <td>0</td>\n",
       "      <td>0</td>\n",
       "      <td>0</td>\n",
       "      <td>0</td>\n",
       "      <td>0</td>\n",
       "      <td>13913</td>\n",
       "    </tr>\n",
       "    <tr>\n",
       "      <th>1</th>\n",
       "      <td>1</td>\n",
       "      <td>1</td>\n",
       "      <td>1</td>\n",
       "      <td>1</td>\n",
       "      <td>0</td>\n",
       "      <td>0</td>\n",
       "      <td>0</td>\n",
       "      <td>1</td>\n",
       "      <td>1</td>\n",
       "      <td>0</td>\n",
       "      <td>...</td>\n",
       "      <td>0</td>\n",
       "      <td>0</td>\n",
       "      <td>0</td>\n",
       "      <td>0</td>\n",
       "      <td>0</td>\n",
       "      <td>0</td>\n",
       "      <td>0</td>\n",
       "      <td>0</td>\n",
       "      <td>0</td>\n",
       "      <td>15400</td>\n",
       "    </tr>\n",
       "    <tr>\n",
       "      <th>2</th>\n",
       "      <td>1</td>\n",
       "      <td>1</td>\n",
       "      <td>0</td>\n",
       "      <td>1</td>\n",
       "      <td>1</td>\n",
       "      <td>0</td>\n",
       "      <td>0</td>\n",
       "      <td>1</td>\n",
       "      <td>1</td>\n",
       "      <td>1</td>\n",
       "      <td>...</td>\n",
       "      <td>0</td>\n",
       "      <td>1</td>\n",
       "      <td>0</td>\n",
       "      <td>1</td>\n",
       "      <td>0</td>\n",
       "      <td>0</td>\n",
       "      <td>0</td>\n",
       "      <td>0</td>\n",
       "      <td>0</td>\n",
       "      <td>17402</td>\n",
       "    </tr>\n",
       "    <tr>\n",
       "      <th>3</th>\n",
       "      <td>1</td>\n",
       "      <td>1</td>\n",
       "      <td>1</td>\n",
       "      <td>1</td>\n",
       "      <td>0</td>\n",
       "      <td>0</td>\n",
       "      <td>0</td>\n",
       "      <td>0</td>\n",
       "      <td>1</td>\n",
       "      <td>1</td>\n",
       "      <td>...</td>\n",
       "      <td>1</td>\n",
       "      <td>0</td>\n",
       "      <td>1</td>\n",
       "      <td>0</td>\n",
       "      <td>0</td>\n",
       "      <td>1</td>\n",
       "      <td>1</td>\n",
       "      <td>0</td>\n",
       "      <td>1</td>\n",
       "      <td>24328</td>\n",
       "    </tr>\n",
       "    <tr>\n",
       "      <th>4</th>\n",
       "      <td>1</td>\n",
       "      <td>1</td>\n",
       "      <td>0</td>\n",
       "      <td>1</td>\n",
       "      <td>0</td>\n",
       "      <td>0</td>\n",
       "      <td>0</td>\n",
       "      <td>1</td>\n",
       "      <td>1</td>\n",
       "      <td>0</td>\n",
       "      <td>...</td>\n",
       "      <td>0</td>\n",
       "      <td>1</td>\n",
       "      <td>0</td>\n",
       "      <td>0</td>\n",
       "      <td>0</td>\n",
       "      <td>0</td>\n",
       "      <td>0</td>\n",
       "      <td>0</td>\n",
       "      <td>0</td>\n",
       "      <td>25023</td>\n",
       "    </tr>\n",
       "  </tbody>\n",
       "</table>\n",
       "<p>5 rows × 92 columns</p>\n",
       "</div>"
      ],
      "text/plain": [
       "   a_wifi  a_TV  a_cable_tv  a_kitchen  a_paid_parking_off_premises  \\\n",
       "0       1     1           1          1                            1   \n",
       "1       1     1           1          1                            0   \n",
       "2       1     1           0          1                            1   \n",
       "3       1     1           1          1                            0   \n",
       "4       1     1           0          1                            0   \n",
       "\n",
       "   a_smoking_allowed  a_free_street_parking  a_buzzer_intercom  a_heating  \\\n",
       "0                  1                      1                  1          1   \n",
       "1                  0                      0                  1          1   \n",
       "2                  0                      0                  1          1   \n",
       "3                  0                      0                  0          1   \n",
       "4                  0                      0                  1          1   \n",
       "\n",
       "   a_family_friendly  ...    a_self_checkin  a_elevator  a_fireplace  \\\n",
       "0                  1  ...                 0           0            0   \n",
       "1                  0  ...                 0           0            0   \n",
       "2                  1  ...                 0           1            0   \n",
       "3                  1  ...                 1           0            1   \n",
       "4                  0  ...                 0           1            0   \n",
       "\n",
       "   a_dishwasher  a_cats  a_pets_allowed  a_lockbox  a_building_staff  \\\n",
       "0             0       0               0          0                 0   \n",
       "1             0       0               0          0                 0   \n",
       "2             1       0               0          0                 0   \n",
       "3             0       0               1          1                 0   \n",
       "4             0       0               0          0                 0   \n",
       "\n",
       "   a_pets_on_property     id  \n",
       "0                   0  13913  \n",
       "1                   0  15400  \n",
       "2                   0  17402  \n",
       "3                   1  24328  \n",
       "4                   0  25023  \n",
       "\n",
       "[5 rows x 92 columns]"
      ]
     },
     "execution_count": 288,
     "metadata": {},
     "output_type": "execute_result"
    }
   ],
   "source": [
    "amenities_df = df[amen_cols]\n",
    "amenities_df.head()"
   ]
  },
  {
   "cell_type": "code",
   "execution_count": 290,
   "metadata": {},
   "outputs": [
    {
     "data": {
      "text/plain": [
       "['a_wifi', 'a_TV', 'a_cable_tv', 'a_kitchen', 'a_paid_parking_off_premises']"
      ]
     },
     "execution_count": 290,
     "metadata": {},
     "output_type": "execute_result"
    }
   ],
   "source": [
    "# Total amenities per listing:\n",
    "\n",
    "# Create list of columns to sum across (just amens, not id):\n",
    "\n",
    "col_list= list(amenities_df)\n",
    "col_list.remove('id')\n",
    "col_list[:5]"
   ]
  },
  {
   "cell_type": "code",
   "execution_count": 292,
   "metadata": {},
   "outputs": [
    {
     "name": "stderr",
     "output_type": "stream",
     "text": [
      "/Users/bridmcnulty/anaconda3/lib/python3.7/site-packages/ipykernel_launcher.py:1: SettingWithCopyWarning: \n",
      "A value is trying to be set on a copy of a slice from a DataFrame.\n",
      "Try using .loc[row_indexer,col_indexer] = value instead\n",
      "\n",
      "See the caveats in the documentation: http://pandas.pydata.org/pandas-docs/stable/indexing.html#indexing-view-versus-copy\n",
      "  \"\"\"Entry point for launching an IPython kernel.\n"
     ]
    }
   ],
   "source": [
    "amenities_df['total_amenities'] = amenities_df[col_list].sum(axis=1)"
   ]
  },
  {
   "cell_type": "code",
   "execution_count": 294,
   "metadata": {},
   "outputs": [
    {
     "data": {
      "text/html": [
       "<div>\n",
       "<style scoped>\n",
       "    .dataframe tbody tr th:only-of-type {\n",
       "        vertical-align: middle;\n",
       "    }\n",
       "\n",
       "    .dataframe tbody tr th {\n",
       "        vertical-align: top;\n",
       "    }\n",
       "\n",
       "    .dataframe thead th {\n",
       "        text-align: right;\n",
       "    }\n",
       "</style>\n",
       "<table border=\"1\" class=\"dataframe\">\n",
       "  <thead>\n",
       "    <tr style=\"text-align: right;\">\n",
       "      <th></th>\n",
       "      <th>a_wifi</th>\n",
       "      <th>a_TV</th>\n",
       "      <th>a_cable_tv</th>\n",
       "      <th>a_kitchen</th>\n",
       "      <th>a_paid_parking_off_premises</th>\n",
       "      <th>a_smoking_allowed</th>\n",
       "      <th>a_free_street_parking</th>\n",
       "      <th>a_buzzer_intercom</th>\n",
       "      <th>a_heating</th>\n",
       "      <th>a_family_friendly</th>\n",
       "      <th>...</th>\n",
       "      <th>a_elevator</th>\n",
       "      <th>a_fireplace</th>\n",
       "      <th>a_dishwasher</th>\n",
       "      <th>a_cats</th>\n",
       "      <th>a_pets_allowed</th>\n",
       "      <th>a_lockbox</th>\n",
       "      <th>a_building_staff</th>\n",
       "      <th>a_pets_on_property</th>\n",
       "      <th>id</th>\n",
       "      <th>total_amenities</th>\n",
       "    </tr>\n",
       "  </thead>\n",
       "  <tbody>\n",
       "    <tr>\n",
       "      <th>0</th>\n",
       "      <td>1</td>\n",
       "      <td>1</td>\n",
       "      <td>1</td>\n",
       "      <td>1</td>\n",
       "      <td>1</td>\n",
       "      <td>1</td>\n",
       "      <td>1</td>\n",
       "      <td>1</td>\n",
       "      <td>1</td>\n",
       "      <td>1</td>\n",
       "      <td>...</td>\n",
       "      <td>0</td>\n",
       "      <td>0</td>\n",
       "      <td>0</td>\n",
       "      <td>0</td>\n",
       "      <td>0</td>\n",
       "      <td>0</td>\n",
       "      <td>0</td>\n",
       "      <td>0</td>\n",
       "      <td>13913</td>\n",
       "      <td>52</td>\n",
       "    </tr>\n",
       "    <tr>\n",
       "      <th>1</th>\n",
       "      <td>1</td>\n",
       "      <td>1</td>\n",
       "      <td>1</td>\n",
       "      <td>1</td>\n",
       "      <td>0</td>\n",
       "      <td>0</td>\n",
       "      <td>0</td>\n",
       "      <td>1</td>\n",
       "      <td>1</td>\n",
       "      <td>0</td>\n",
       "      <td>...</td>\n",
       "      <td>0</td>\n",
       "      <td>0</td>\n",
       "      <td>0</td>\n",
       "      <td>0</td>\n",
       "      <td>0</td>\n",
       "      <td>0</td>\n",
       "      <td>0</td>\n",
       "      <td>0</td>\n",
       "      <td>15400</td>\n",
       "      <td>22</td>\n",
       "    </tr>\n",
       "  </tbody>\n",
       "</table>\n",
       "<p>2 rows × 93 columns</p>\n",
       "</div>"
      ],
      "text/plain": [
       "   a_wifi  a_TV  a_cable_tv  a_kitchen  a_paid_parking_off_premises  \\\n",
       "0       1     1           1          1                            1   \n",
       "1       1     1           1          1                            0   \n",
       "\n",
       "   a_smoking_allowed  a_free_street_parking  a_buzzer_intercom  a_heating  \\\n",
       "0                  1                      1                  1          1   \n",
       "1                  0                      0                  1          1   \n",
       "\n",
       "   a_family_friendly       ...         a_elevator  a_fireplace  a_dishwasher  \\\n",
       "0                  1       ...                  0            0             0   \n",
       "1                  0       ...                  0            0             0   \n",
       "\n",
       "   a_cats  a_pets_allowed  a_lockbox  a_building_staff  a_pets_on_property  \\\n",
       "0       0               0          0                 0                   0   \n",
       "1       0               0          0                 0                   0   \n",
       "\n",
       "      id  total_amenities  \n",
       "0  13913               52  \n",
       "1  15400               22  \n",
       "\n",
       "[2 rows x 93 columns]"
      ]
     },
     "execution_count": 294,
     "metadata": {},
     "output_type": "execute_result"
    }
   ],
   "source": [
    "amenities_df.head(2)\n"
   ]
  },
  {
   "cell_type": "code",
   "execution_count": 295,
   "metadata": {},
   "outputs": [],
   "source": [
    "amenities_df.to_csv(\"amenities.csv\")"
   ]
  },
  {
   "cell_type": "code",
   "execution_count": null,
   "metadata": {},
   "outputs": [],
   "source": []
  }
 ],
 "metadata": {
  "kernelspec": {
   "display_name": "Python 3",
   "language": "python",
   "name": "python3"
  },
  "language_info": {
   "codemirror_mode": {
    "name": "ipython",
    "version": 3
   },
   "file_extension": ".py",
   "mimetype": "text/x-python",
   "name": "python",
   "nbconvert_exporter": "python",
   "pygments_lexer": "ipython3",
   "version": "3.7.1"
  }
 },
 "nbformat": 4,
 "nbformat_minor": 2
}
